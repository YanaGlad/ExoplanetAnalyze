{
  "nbformat": 4,
  "nbformat_minor": 0,
  "metadata": {
    "colab": {
      "name": "exoplanet_analyze.ipynb",
      "provenance": [],
      "collapsed_sections": [],
      "authorship_tag": "ABX9TyPWs0YCm5g3sxZ0UWP3Nl+d",
      "include_colab_link": true
    },
    "kernelspec": {
      "name": "python3",
      "display_name": "Python 3"
    },
    "language_info": {
      "name": "python"
    }
  },
  "cells": [
    {
      "cell_type": "markdown",
      "metadata": {
        "id": "view-in-github",
        "colab_type": "text"
      },
      "source": [
        "<a href=\"https://colab.research.google.com/github/YanaGlad/ExoplanetAnalyze/blob/master/exoplanet_analyze.ipynb\" target=\"_parent\"><img src=\"https://colab.research.google.com/assets/colab-badge.svg\" alt=\"Open In Colab\"/></a>"
      ]
    },
    {
      "cell_type": "markdown",
      "metadata": {
        "id": "VTc17U3lnGeK"
      },
      "source": [
        "Датасет планет за пределами Солнечной системы, появился в 1992 году, когда было обнаружено несколько планет земной массы, вращающихся вокруг пульсара PSR B1257+12. Поля данных включают атрибуты планеты и звезды-хозяина, методы обнаружения и (конечно же) дату обнаружения.\n",
        "\n",
        "Файл содержит: \n",
        "\n",
        "PlanetIdentifier: Primary identifier of planet #id планеты\n",
        "\n",
        "TypeFlag: [0=no known stellar binary companion; 1=P-type binary (circumbinary); 2=S-type binary; 3=orphan planet (no star)] # Флаг Типа: [0 = нет известного звездного двоичного спутника; 1 = двоичный тип P (круговой); 2= двоичный тип S; 3 = сиротская планета (без звезды)]\n",
        "\n",
        "ListsPlanetIsOn: A list of lists the planet is on including \"Confirmed planets\", \"Controversial\", \"Kepler Objects of Interest\", etc. # Список списков, в которых находится планета, включает \"Подтвержденные планеты\", \"Спорные\", \"Кеплеровы элементы\" и т. Д."
      ]
    },
    {
      "cell_type": "code",
      "metadata": {
        "id": "4aNWLEaRnOwq"
      },
      "source": [
        "import pandas as pd\n",
        "import numpy as np\n",
        "import matplotlib.pyplot as plt\n",
        "import seaborn as sns\n",
        "from scipy import stats\n",
        "import matplotlib.cm as cm\n",
        "import sklearn.cluster as cluster\n",
        "import matplotlib.colors as clr"
      ],
      "execution_count": 27,
      "outputs": []
    },
    {
      "cell_type": "markdown",
      "metadata": {
        "id": "C6TQOslIojH-"
      },
      "source": [
        "Для начала загрузим датасет и посмотрим его на первые элементы\n",
        "\n"
      ]
    },
    {
      "cell_type": "code",
      "metadata": {
        "colab": {
          "base_uri": "https://localhost:8080/",
          "height": 226
        },
        "id": "1yDCtjqDogVo",
        "outputId": "7f4103d5-1018-44be-99fb-b97f8f047ca4"
      },
      "source": [
        "dataset = pd.read_csv('/content/data-exoplanet.csv')\n",
        "dataset.head()"
      ],
      "execution_count": 6,
      "outputs": [
        {
          "output_type": "execute_result",
          "data": {
            "text/html": [
              "<div>\n",
              "<style scoped>\n",
              "    .dataframe tbody tr th:only-of-type {\n",
              "        vertical-align: middle;\n",
              "    }\n",
              "\n",
              "    .dataframe tbody tr th {\n",
              "        vertical-align: top;\n",
              "    }\n",
              "\n",
              "    .dataframe thead th {\n",
              "        text-align: right;\n",
              "    }\n",
              "</style>\n",
              "<table border=\"1\" class=\"dataframe\">\n",
              "  <thead>\n",
              "    <tr style=\"text-align: right;\">\n",
              "      <th></th>\n",
              "      <th>PlanetIdentifier</th>\n",
              "      <th>TypeFlag</th>\n",
              "      <th>PlanetaryMassJpt</th>\n",
              "      <th>RadiusJpt</th>\n",
              "      <th>PeriodDays</th>\n",
              "      <th>SemiMajorAxisAU</th>\n",
              "      <th>Eccentricity</th>\n",
              "      <th>PeriastronDeg</th>\n",
              "      <th>LongitudeDeg</th>\n",
              "      <th>AscendingNodeDeg</th>\n",
              "      <th>InclinationDeg</th>\n",
              "      <th>SurfaceTempK</th>\n",
              "      <th>AgeGyr</th>\n",
              "      <th>DiscoveryMethod</th>\n",
              "      <th>DiscoveryYear</th>\n",
              "      <th>LastUpdated</th>\n",
              "      <th>RightAscension</th>\n",
              "      <th>Declination</th>\n",
              "      <th>DistFromSunParsec</th>\n",
              "      <th>HostStarMassSlrMass</th>\n",
              "      <th>HostStarRadiusSlrRad</th>\n",
              "      <th>HostStarMetallicity</th>\n",
              "      <th>HostStarTempK</th>\n",
              "      <th>HostStarAgeGyr</th>\n",
              "      <th>ListsPlanetIsOn</th>\n",
              "    </tr>\n",
              "  </thead>\n",
              "  <tbody>\n",
              "    <tr>\n",
              "      <th>0</th>\n",
              "      <td>HD 143761 b</td>\n",
              "      <td>0</td>\n",
              "      <td>1.0450</td>\n",
              "      <td>NaN</td>\n",
              "      <td>39.845800</td>\n",
              "      <td>0.2196</td>\n",
              "      <td>0.037</td>\n",
              "      <td>270.6</td>\n",
              "      <td>NaN</td>\n",
              "      <td>NaN</td>\n",
              "      <td>NaN</td>\n",
              "      <td>NaN</td>\n",
              "      <td>NaN</td>\n",
              "      <td>RV</td>\n",
              "      <td>2016.0</td>\n",
              "      <td>16/07/11</td>\n",
              "      <td>16 01 03</td>\n",
              "      <td>+33 18 13</td>\n",
              "      <td>17.236</td>\n",
              "      <td>0.889</td>\n",
              "      <td>1.362</td>\n",
              "      <td>-0.31</td>\n",
              "      <td>5627.0</td>\n",
              "      <td>NaN</td>\n",
              "      <td>Confirmed planets</td>\n",
              "    </tr>\n",
              "    <tr>\n",
              "      <th>1</th>\n",
              "      <td>HD 143761 c</td>\n",
              "      <td>0</td>\n",
              "      <td>0.0790</td>\n",
              "      <td>NaN</td>\n",
              "      <td>102.540000</td>\n",
              "      <td>0.4123</td>\n",
              "      <td>0.050</td>\n",
              "      <td>190.0</td>\n",
              "      <td>NaN</td>\n",
              "      <td>NaN</td>\n",
              "      <td>NaN</td>\n",
              "      <td>NaN</td>\n",
              "      <td>NaN</td>\n",
              "      <td>RV</td>\n",
              "      <td>2016.0</td>\n",
              "      <td>16/07/11</td>\n",
              "      <td>16 01 03</td>\n",
              "      <td>+33 18 13</td>\n",
              "      <td>17.236</td>\n",
              "      <td>0.889</td>\n",
              "      <td>1.362</td>\n",
              "      <td>-0.31</td>\n",
              "      <td>5627.0</td>\n",
              "      <td>NaN</td>\n",
              "      <td>Confirmed planets</td>\n",
              "    </tr>\n",
              "    <tr>\n",
              "      <th>2</th>\n",
              "      <td>KOI-1843.03</td>\n",
              "      <td>0</td>\n",
              "      <td>0.0014</td>\n",
              "      <td>0.054</td>\n",
              "      <td>0.176891</td>\n",
              "      <td>0.0048</td>\n",
              "      <td>NaN</td>\n",
              "      <td>NaN</td>\n",
              "      <td>NaN</td>\n",
              "      <td>NaN</td>\n",
              "      <td>72.00</td>\n",
              "      <td>NaN</td>\n",
              "      <td>NaN</td>\n",
              "      <td>transit</td>\n",
              "      <td>2012.0</td>\n",
              "      <td>13/07/15</td>\n",
              "      <td>19 00 03.14</td>\n",
              "      <td>+40 13 14.7</td>\n",
              "      <td>NaN</td>\n",
              "      <td>0.460</td>\n",
              "      <td>0.450</td>\n",
              "      <td>0.00</td>\n",
              "      <td>3584.0</td>\n",
              "      <td>NaN</td>\n",
              "      <td>Controversial</td>\n",
              "    </tr>\n",
              "    <tr>\n",
              "      <th>3</th>\n",
              "      <td>KOI-1843.01</td>\n",
              "      <td>0</td>\n",
              "      <td>NaN</td>\n",
              "      <td>0.114</td>\n",
              "      <td>4.194525</td>\n",
              "      <td>0.0390</td>\n",
              "      <td>NaN</td>\n",
              "      <td>NaN</td>\n",
              "      <td>NaN</td>\n",
              "      <td>NaN</td>\n",
              "      <td>89.38</td>\n",
              "      <td>NaN</td>\n",
              "      <td>NaN</td>\n",
              "      <td>transit</td>\n",
              "      <td>NaN</td>\n",
              "      <td>NaN</td>\n",
              "      <td>19 00 03.14</td>\n",
              "      <td>+40 13 14.7</td>\n",
              "      <td>NaN</td>\n",
              "      <td>0.460</td>\n",
              "      <td>0.450</td>\n",
              "      <td>0.00</td>\n",
              "      <td>3584.0</td>\n",
              "      <td>NaN</td>\n",
              "      <td>Controversial</td>\n",
              "    </tr>\n",
              "    <tr>\n",
              "      <th>4</th>\n",
              "      <td>KOI-1843.02</td>\n",
              "      <td>0</td>\n",
              "      <td>NaN</td>\n",
              "      <td>0.071</td>\n",
              "      <td>6.356006</td>\n",
              "      <td>0.0520</td>\n",
              "      <td>NaN</td>\n",
              "      <td>NaN</td>\n",
              "      <td>NaN</td>\n",
              "      <td>NaN</td>\n",
              "      <td>88.24</td>\n",
              "      <td>NaN</td>\n",
              "      <td>NaN</td>\n",
              "      <td>transit</td>\n",
              "      <td>NaN</td>\n",
              "      <td>NaN</td>\n",
              "      <td>19 00 03.14</td>\n",
              "      <td>+40 13 14.7</td>\n",
              "      <td>NaN</td>\n",
              "      <td>0.460</td>\n",
              "      <td>0.450</td>\n",
              "      <td>0.00</td>\n",
              "      <td>3584.0</td>\n",
              "      <td>NaN</td>\n",
              "      <td>Controversial</td>\n",
              "    </tr>\n",
              "  </tbody>\n",
              "</table>\n",
              "</div>"
            ],
            "text/plain": [
              "  PlanetIdentifier  TypeFlag  ...  HostStarAgeGyr    ListsPlanetIsOn\n",
              "0      HD 143761 b         0  ...             NaN  Confirmed planets\n",
              "1      HD 143761 c         0  ...             NaN  Confirmed planets\n",
              "2      KOI-1843.03         0  ...             NaN      Controversial\n",
              "3      KOI-1843.01         0  ...             NaN      Controversial\n",
              "4      KOI-1843.02         0  ...             NaN      Controversial\n",
              "\n",
              "[5 rows x 25 columns]"
            ]
          },
          "metadata": {},
          "execution_count": 6
        }
      ]
    },
    {
      "cell_type": "markdown",
      "metadata": {
        "id": "xk-_OxbBpQxf"
      },
      "source": [
        "Можно увидеть, что датасет содержит идентификатор планеты, и такие ее характеристики, как перид, кеплеровы элементы, ra и dec, расстояние от солнца и звезды, вокруг которой они вращаются, в каком году были открыты и прочее"
      ]
    },
    {
      "cell_type": "markdown",
      "metadata": {
        "id": "hd8D4vljshRs"
      },
      "source": [
        " Подробнее взглянем на все колонки датасета\n"
      ]
    },
    {
      "cell_type": "code",
      "metadata": {
        "colab": {
          "base_uri": "https://localhost:8080/"
        },
        "id": "K8il7O9spNcT",
        "outputId": "23fda921-47d3-4f5f-ac41-7c04ba0084bd"
      },
      "source": [
        "dataset.columns"
      ],
      "execution_count": 7,
      "outputs": [
        {
          "output_type": "execute_result",
          "data": {
            "text/plain": [
              "Index(['PlanetIdentifier', 'TypeFlag', 'PlanetaryMassJpt', 'RadiusJpt',\n",
              "       'PeriodDays', 'SemiMajorAxisAU', 'Eccentricity', 'PeriastronDeg',\n",
              "       'LongitudeDeg', 'AscendingNodeDeg', 'InclinationDeg', 'SurfaceTempK',\n",
              "       'AgeGyr', 'DiscoveryMethod', 'DiscoveryYear', 'LastUpdated',\n",
              "       'RightAscension', 'Declination', 'DistFromSunParsec',\n",
              "       'HostStarMassSlrMass', 'HostStarRadiusSlrRad', 'HostStarMetallicity',\n",
              "       'HostStarTempK', 'HostStarAgeGyr', 'ListsPlanetIsOn'],\n",
              "      dtype='object')"
            ]
          },
          "metadata": {},
          "execution_count": 7
        }
      ]
    },
    {
      "cell_type": "markdown",
      "metadata": {
        "id": "5FFgTL0estTc"
      },
      "source": [
        "И посмотрим последнии 5 элементов датасета"
      ]
    },
    {
      "cell_type": "code",
      "metadata": {
        "colab": {
          "base_uri": "https://localhost:8080/",
          "height": 261
        },
        "id": "8EDpCP95sQJK",
        "outputId": "45fdf989-8c55-4e53-fe4e-6d360f73350e"
      },
      "source": [
        "dataset.tail()"
      ],
      "execution_count": 8,
      "outputs": [
        {
          "output_type": "execute_result",
          "data": {
            "text/html": [
              "<div>\n",
              "<style scoped>\n",
              "    .dataframe tbody tr th:only-of-type {\n",
              "        vertical-align: middle;\n",
              "    }\n",
              "\n",
              "    .dataframe tbody tr th {\n",
              "        vertical-align: top;\n",
              "    }\n",
              "\n",
              "    .dataframe thead th {\n",
              "        text-align: right;\n",
              "    }\n",
              "</style>\n",
              "<table border=\"1\" class=\"dataframe\">\n",
              "  <thead>\n",
              "    <tr style=\"text-align: right;\">\n",
              "      <th></th>\n",
              "      <th>PlanetIdentifier</th>\n",
              "      <th>TypeFlag</th>\n",
              "      <th>PlanetaryMassJpt</th>\n",
              "      <th>RadiusJpt</th>\n",
              "      <th>PeriodDays</th>\n",
              "      <th>SemiMajorAxisAU</th>\n",
              "      <th>Eccentricity</th>\n",
              "      <th>PeriastronDeg</th>\n",
              "      <th>LongitudeDeg</th>\n",
              "      <th>AscendingNodeDeg</th>\n",
              "      <th>InclinationDeg</th>\n",
              "      <th>SurfaceTempK</th>\n",
              "      <th>AgeGyr</th>\n",
              "      <th>DiscoveryMethod</th>\n",
              "      <th>DiscoveryYear</th>\n",
              "      <th>LastUpdated</th>\n",
              "      <th>RightAscension</th>\n",
              "      <th>Declination</th>\n",
              "      <th>DistFromSunParsec</th>\n",
              "      <th>HostStarMassSlrMass</th>\n",
              "      <th>HostStarRadiusSlrRad</th>\n",
              "      <th>HostStarMetallicity</th>\n",
              "      <th>HostStarTempK</th>\n",
              "      <th>HostStarAgeGyr</th>\n",
              "      <th>ListsPlanetIsOn</th>\n",
              "    </tr>\n",
              "  </thead>\n",
              "  <tbody>\n",
              "    <tr>\n",
              "      <th>3579</th>\n",
              "      <td>eta Cet b</td>\n",
              "      <td>0</td>\n",
              "      <td>2.460</td>\n",
              "      <td>NaN</td>\n",
              "      <td>407.300000</td>\n",
              "      <td>1.270</td>\n",
              "      <td>0.17</td>\n",
              "      <td>247.20</td>\n",
              "      <td>NaN</td>\n",
              "      <td>NaN</td>\n",
              "      <td>81.9</td>\n",
              "      <td>NaN</td>\n",
              "      <td>NaN</td>\n",
              "      <td>RV</td>\n",
              "      <td>2014.0</td>\n",
              "      <td>15/12/11</td>\n",
              "      <td>01 08 35.39148</td>\n",
              "      <td>-10 10 56.1570</td>\n",
              "      <td>37.99</td>\n",
              "      <td>1.70</td>\n",
              "      <td>14.30</td>\n",
              "      <td>0.12</td>\n",
              "      <td>4528.0</td>\n",
              "      <td>NaN</td>\n",
              "      <td>Confirmed planets</td>\n",
              "    </tr>\n",
              "    <tr>\n",
              "      <th>3580</th>\n",
              "      <td>eta Cet c</td>\n",
              "      <td>0</td>\n",
              "      <td>3.160</td>\n",
              "      <td>NaN</td>\n",
              "      <td>744.300000</td>\n",
              "      <td>1.930</td>\n",
              "      <td>0.02</td>\n",
              "      <td>36.67</td>\n",
              "      <td>NaN</td>\n",
              "      <td>NaN</td>\n",
              "      <td>81.9</td>\n",
              "      <td>NaN</td>\n",
              "      <td>NaN</td>\n",
              "      <td>RV</td>\n",
              "      <td>2014.0</td>\n",
              "      <td>15/12/11</td>\n",
              "      <td>01 08 35.39148</td>\n",
              "      <td>-10 10 56.1570</td>\n",
              "      <td>37.99</td>\n",
              "      <td>1.70</td>\n",
              "      <td>14.30</td>\n",
              "      <td>0.12</td>\n",
              "      <td>4528.0</td>\n",
              "      <td>NaN</td>\n",
              "      <td>Confirmed planets</td>\n",
              "    </tr>\n",
              "    <tr>\n",
              "      <th>3581</th>\n",
              "      <td>HD 108874 b</td>\n",
              "      <td>0</td>\n",
              "      <td>1.360</td>\n",
              "      <td>NaN</td>\n",
              "      <td>395.400000</td>\n",
              "      <td>1.051</td>\n",
              "      <td>0.07</td>\n",
              "      <td>NaN</td>\n",
              "      <td>NaN</td>\n",
              "      <td>NaN</td>\n",
              "      <td>NaN</td>\n",
              "      <td>256.8</td>\n",
              "      <td>NaN</td>\n",
              "      <td>RV</td>\n",
              "      <td>2003.0</td>\n",
              "      <td>10/12/29</td>\n",
              "      <td>12 30 26</td>\n",
              "      <td>+22 52 47</td>\n",
              "      <td>68.50</td>\n",
              "      <td>1.00</td>\n",
              "      <td>1.22</td>\n",
              "      <td>0.14</td>\n",
              "      <td>5407.0</td>\n",
              "      <td>NaN</td>\n",
              "      <td>Confirmed planets</td>\n",
              "    </tr>\n",
              "    <tr>\n",
              "      <th>3582</th>\n",
              "      <td>HD 108874 c</td>\n",
              "      <td>0</td>\n",
              "      <td>1.018</td>\n",
              "      <td>NaN</td>\n",
              "      <td>1605.800000</td>\n",
              "      <td>2.680</td>\n",
              "      <td>0.25</td>\n",
              "      <td>NaN</td>\n",
              "      <td>NaN</td>\n",
              "      <td>NaN</td>\n",
              "      <td>NaN</td>\n",
              "      <td>160.2</td>\n",
              "      <td>NaN</td>\n",
              "      <td>RV</td>\n",
              "      <td>2005.0</td>\n",
              "      <td>10/12/29</td>\n",
              "      <td>12 30 26</td>\n",
              "      <td>+22 52 47</td>\n",
              "      <td>68.50</td>\n",
              "      <td>1.00</td>\n",
              "      <td>1.22</td>\n",
              "      <td>0.14</td>\n",
              "      <td>5407.0</td>\n",
              "      <td>NaN</td>\n",
              "      <td>Confirmed planets</td>\n",
              "    </tr>\n",
              "    <tr>\n",
              "      <th>3583</th>\n",
              "      <td>Kepler-1473 b</td>\n",
              "      <td>0</td>\n",
              "      <td>NaN</td>\n",
              "      <td>0.106</td>\n",
              "      <td>14.427355</td>\n",
              "      <td>NaN</td>\n",
              "      <td>NaN</td>\n",
              "      <td>NaN</td>\n",
              "      <td>NaN</td>\n",
              "      <td>NaN</td>\n",
              "      <td>NaN</td>\n",
              "      <td>NaN</td>\n",
              "      <td>NaN</td>\n",
              "      <td>transit</td>\n",
              "      <td>2016.0</td>\n",
              "      <td>16/05/10</td>\n",
              "      <td>19 22 33</td>\n",
              "      <td>+48 59 46</td>\n",
              "      <td>NaN</td>\n",
              "      <td>1.09</td>\n",
              "      <td>1.09</td>\n",
              "      <td>-0.01</td>\n",
              "      <td>6046.0</td>\n",
              "      <td>NaN</td>\n",
              "      <td>Confirmed planets</td>\n",
              "    </tr>\n",
              "  </tbody>\n",
              "</table>\n",
              "</div>"
            ],
            "text/plain": [
              "     PlanetIdentifier  TypeFlag  ...  HostStarAgeGyr    ListsPlanetIsOn\n",
              "3579        eta Cet b         0  ...             NaN  Confirmed planets\n",
              "3580        eta Cet c         0  ...             NaN  Confirmed planets\n",
              "3581      HD 108874 b         0  ...             NaN  Confirmed planets\n",
              "3582      HD 108874 c         0  ...             NaN  Confirmed planets\n",
              "3583    Kepler-1473 b         0  ...             NaN  Confirmed planets\n",
              "\n",
              "[5 rows x 25 columns]"
            ]
          },
          "metadata": {},
          "execution_count": 8
        }
      ]
    },
    {
      "cell_type": "markdown",
      "metadata": {
        "id": "wXfAQVADswKe"
      },
      "source": [
        "Подробно взглянем на корреляцию признаков\n"
      ]
    },
    {
      "cell_type": "code",
      "metadata": {
        "colab": {
          "base_uri": "https://localhost:8080/",
          "height": 665
        },
        "id": "z2U3HF_qswwG",
        "outputId": "595cd605-341d-40ee-bd4b-3e2e71c09c71"
      },
      "source": [
        "dataset.corr().style.background_gradient(cmap='coolwarm').set_precision(2)"
      ],
      "execution_count": 9,
      "outputs": [
        {
          "output_type": "execute_result",
          "data": {
            "text/html": [
              "<style  type=\"text/css\" >\n",
              "#T_33ba4bce_55a0_11ec_9d88_0242ac1c0002row0_col0,#T_33ba4bce_55a0_11ec_9d88_0242ac1c0002row0_col11,#T_33ba4bce_55a0_11ec_9d88_0242ac1c0002row1_col1,#T_33ba4bce_55a0_11ec_9d88_0242ac1c0002row2_col2,#T_33ba4bce_55a0_11ec_9d88_0242ac1c0002row3_col3,#T_33ba4bce_55a0_11ec_9d88_0242ac1c0002row4_col4,#T_33ba4bce_55a0_11ec_9d88_0242ac1c0002row5_col5,#T_33ba4bce_55a0_11ec_9d88_0242ac1c0002row6_col6,#T_33ba4bce_55a0_11ec_9d88_0242ac1c0002row7_col7,#T_33ba4bce_55a0_11ec_9d88_0242ac1c0002row8_col8,#T_33ba4bce_55a0_11ec_9d88_0242ac1c0002row9_col9,#T_33ba4bce_55a0_11ec_9d88_0242ac1c0002row10_col10,#T_33ba4bce_55a0_11ec_9d88_0242ac1c0002row11_col0,#T_33ba4bce_55a0_11ec_9d88_0242ac1c0002row11_col11,#T_33ba4bce_55a0_11ec_9d88_0242ac1c0002row11_col12,#T_33ba4bce_55a0_11ec_9d88_0242ac1c0002row12_col11,#T_33ba4bce_55a0_11ec_9d88_0242ac1c0002row12_col12,#T_33ba4bce_55a0_11ec_9d88_0242ac1c0002row13_col13,#T_33ba4bce_55a0_11ec_9d88_0242ac1c0002row14_col14,#T_33ba4bce_55a0_11ec_9d88_0242ac1c0002row15_col15,#T_33ba4bce_55a0_11ec_9d88_0242ac1c0002row16_col16,#T_33ba4bce_55a0_11ec_9d88_0242ac1c0002row17_col17,#T_33ba4bce_55a0_11ec_9d88_0242ac1c0002row18_col18{\n",
              "            background-color:  #b40426;\n",
              "            color:  #f1f1f1;\n",
              "        }#T_33ba4bce_55a0_11ec_9d88_0242ac1c0002row0_col1{\n",
              "            background-color:  #e6d7cf;\n",
              "            color:  #000000;\n",
              "        }#T_33ba4bce_55a0_11ec_9d88_0242ac1c0002row0_col2,#T_33ba4bce_55a0_11ec_9d88_0242ac1c0002row3_col10{\n",
              "            background-color:  #b5cdfa;\n",
              "            color:  #000000;\n",
              "        }#T_33ba4bce_55a0_11ec_9d88_0242ac1c0002row0_col3,#T_33ba4bce_55a0_11ec_9d88_0242ac1c0002row17_col8,#T_33ba4bce_55a0_11ec_9d88_0242ac1c0002row18_col12{\n",
              "            background-color:  #8caffe;\n",
              "            color:  #000000;\n",
              "        }#T_33ba4bce_55a0_11ec_9d88_0242ac1c0002row0_col4{\n",
              "            background-color:  #506bda;\n",
              "            color:  #000000;\n",
              "        }#T_33ba4bce_55a0_11ec_9d88_0242ac1c0002row0_col5,#T_33ba4bce_55a0_11ec_9d88_0242ac1c0002row9_col5{\n",
              "            background-color:  #bad0f8;\n",
              "            color:  #000000;\n",
              "        }#T_33ba4bce_55a0_11ec_9d88_0242ac1c0002row0_col6,#T_33ba4bce_55a0_11ec_9d88_0242ac1c0002row1_col4,#T_33ba4bce_55a0_11ec_9d88_0242ac1c0002row10_col15,#T_33ba4bce_55a0_11ec_9d88_0242ac1c0002row18_col3{\n",
              "            background-color:  #536edd;\n",
              "            color:  #000000;\n",
              "        }#T_33ba4bce_55a0_11ec_9d88_0242ac1c0002row0_col7,#T_33ba4bce_55a0_11ec_9d88_0242ac1c0002row1_col13,#T_33ba4bce_55a0_11ec_9d88_0242ac1c0002row1_col18,#T_33ba4bce_55a0_11ec_9d88_0242ac1c0002row13_col1{\n",
              "            background-color:  #d9dce1;\n",
              "            color:  #000000;\n",
              "        }#T_33ba4bce_55a0_11ec_9d88_0242ac1c0002row0_col8,#T_33ba4bce_55a0_11ec_9d88_0242ac1c0002row10_col9{\n",
              "            background-color:  #97b8ff;\n",
              "            color:  #000000;\n",
              "        }#T_33ba4bce_55a0_11ec_9d88_0242ac1c0002row0_col9,#T_33ba4bce_55a0_11ec_9d88_0242ac1c0002row8_col14{\n",
              "            background-color:  #6485ec;\n",
              "            color:  #000000;\n",
              "        }#T_33ba4bce_55a0_11ec_9d88_0242ac1c0002row0_col10,#T_33ba4bce_55a0_11ec_9d88_0242ac1c0002row2_col7{\n",
              "            background-color:  #c3d5f4;\n",
              "            color:  #000000;\n",
              "        }#T_33ba4bce_55a0_11ec_9d88_0242ac1c0002row0_col12,#T_33ba4bce_55a0_11ec_9d88_0242ac1c0002row4_col15,#T_33ba4bce_55a0_11ec_9d88_0242ac1c0002row6_col3,#T_33ba4bce_55a0_11ec_9d88_0242ac1c0002row13_col3,#T_33ba4bce_55a0_11ec_9d88_0242ac1c0002row17_col9,#T_33ba4bce_55a0_11ec_9d88_0242ac1c0002row18_col7{\n",
              "            background-color:  #5e7de7;\n",
              "            color:  #000000;\n",
              "        }#T_33ba4bce_55a0_11ec_9d88_0242ac1c0002row0_col13,#T_33ba4bce_55a0_11ec_9d88_0242ac1c0002row1_col5,#T_33ba4bce_55a0_11ec_9d88_0242ac1c0002row1_col10{\n",
              "            background-color:  #ccd9ed;\n",
              "            color:  #000000;\n",
              "        }#T_33ba4bce_55a0_11ec_9d88_0242ac1c0002row0_col14,#T_33ba4bce_55a0_11ec_9d88_0242ac1c0002row1_col3,#T_33ba4bce_55a0_11ec_9d88_0242ac1c0002row5_col2,#T_33ba4bce_55a0_11ec_9d88_0242ac1c0002row6_col18,#T_33ba4bce_55a0_11ec_9d88_0242ac1c0002row16_col12{\n",
              "            background-color:  #7597f6;\n",
              "            color:  #000000;\n",
              "        }#T_33ba4bce_55a0_11ec_9d88_0242ac1c0002row0_col15,#T_33ba4bce_55a0_11ec_9d88_0242ac1c0002row15_col6,#T_33ba4bce_55a0_11ec_9d88_0242ac1c0002row16_col0{\n",
              "            background-color:  #6e90f2;\n",
              "            color:  #000000;\n",
              "        }#T_33ba4bce_55a0_11ec_9d88_0242ac1c0002row0_col16,#T_33ba4bce_55a0_11ec_9d88_0242ac1c0002row4_col0,#T_33ba4bce_55a0_11ec_9d88_0242ac1c0002row6_col15,#T_33ba4bce_55a0_11ec_9d88_0242ac1c0002row14_col18{\n",
              "            background-color:  #688aef;\n",
              "            color:  #000000;\n",
              "        }#T_33ba4bce_55a0_11ec_9d88_0242ac1c0002row0_col17,#T_33ba4bce_55a0_11ec_9d88_0242ac1c0002row9_col6,#T_33ba4bce_55a0_11ec_9d88_0242ac1c0002row10_col16,#T_33ba4bce_55a0_11ec_9d88_0242ac1c0002row18_col15{\n",
              "            background-color:  #5875e1;\n",
              "            color:  #000000;\n",
              "        }#T_33ba4bce_55a0_11ec_9d88_0242ac1c0002row0_col18,#T_33ba4bce_55a0_11ec_9d88_0242ac1c0002row9_col8,#T_33ba4bce_55a0_11ec_9d88_0242ac1c0002row15_col8,#T_33ba4bce_55a0_11ec_9d88_0242ac1c0002row16_col14,#T_33ba4bce_55a0_11ec_9d88_0242ac1c0002row17_col5{\n",
              "            background-color:  #a5c3fe;\n",
              "            color:  #000000;\n",
              "        }#T_33ba4bce_55a0_11ec_9d88_0242ac1c0002row1_col0,#T_33ba4bce_55a0_11ec_9d88_0242ac1c0002row5_col4,#T_33ba4bce_55a0_11ec_9d88_0242ac1c0002row5_col12,#T_33ba4bce_55a0_11ec_9d88_0242ac1c0002row15_col9{\n",
              "            background-color:  #7a9df8;\n",
              "            color:  #000000;\n",
              "        }#T_33ba4bce_55a0_11ec_9d88_0242ac1c0002row1_col2,#T_33ba4bce_55a0_11ec_9d88_0242ac1c0002row14_col10{\n",
              "            background-color:  #d3dbe7;\n",
              "            color:  #000000;\n",
              "        }#T_33ba4bce_55a0_11ec_9d88_0242ac1c0002row1_col6,#T_33ba4bce_55a0_11ec_9d88_0242ac1c0002row5_col16,#T_33ba4bce_55a0_11ec_9d88_0242ac1c0002row13_col2,#T_33ba4bce_55a0_11ec_9d88_0242ac1c0002row13_col16{\n",
              "            background-color:  #6c8ff1;\n",
              "            color:  #000000;\n",
              "        }#T_33ba4bce_55a0_11ec_9d88_0242ac1c0002row1_col7,#T_33ba4bce_55a0_11ec_9d88_0242ac1c0002row5_col7{\n",
              "            background-color:  #cad8ef;\n",
              "            color:  #000000;\n",
              "        }#T_33ba4bce_55a0_11ec_9d88_0242ac1c0002row1_col8,#T_33ba4bce_55a0_11ec_9d88_0242ac1c0002row3_col7,#T_33ba4bce_55a0_11ec_9d88_0242ac1c0002row16_col13{\n",
              "            background-color:  #e3d9d3;\n",
              "            color:  #000000;\n",
              "        }#T_33ba4bce_55a0_11ec_9d88_0242ac1c0002row1_col9,#T_33ba4bce_55a0_11ec_9d88_0242ac1c0002row2_col3{\n",
              "            background-color:  #779af7;\n",
              "            color:  #000000;\n",
              "        }#T_33ba4bce_55a0_11ec_9d88_0242ac1c0002row1_col11,#T_33ba4bce_55a0_11ec_9d88_0242ac1c0002row2_col8,#T_33ba4bce_55a0_11ec_9d88_0242ac1c0002row7_col9,#T_33ba4bce_55a0_11ec_9d88_0242ac1c0002row7_col10,#T_33ba4bce_55a0_11ec_9d88_0242ac1c0002row7_col12,#T_33ba4bce_55a0_11ec_9d88_0242ac1c0002row7_col18,#T_33ba4bce_55a0_11ec_9d88_0242ac1c0002row8_col2,#T_33ba4bce_55a0_11ec_9d88_0242ac1c0002row10_col5,#T_33ba4bce_55a0_11ec_9d88_0242ac1c0002row10_col7,#T_33ba4bce_55a0_11ec_9d88_0242ac1c0002row11_col1,#T_33ba4bce_55a0_11ec_9d88_0242ac1c0002row11_col13,#T_33ba4bce_55a0_11ec_9d88_0242ac1c0002row12_col0,#T_33ba4bce_55a0_11ec_9d88_0242ac1c0002row12_col3,#T_33ba4bce_55a0_11ec_9d88_0242ac1c0002row13_col11,#T_33ba4bce_55a0_11ec_9d88_0242ac1c0002row15_col16,#T_33ba4bce_55a0_11ec_9d88_0242ac1c0002row16_col15,#T_33ba4bce_55a0_11ec_9d88_0242ac1c0002row18_col4,#T_33ba4bce_55a0_11ec_9d88_0242ac1c0002row18_col6,#T_33ba4bce_55a0_11ec_9d88_0242ac1c0002row18_col14,#T_33ba4bce_55a0_11ec_9d88_0242ac1c0002row18_col17{\n",
              "            background-color:  #3b4cc0;\n",
              "            color:  #f1f1f1;\n",
              "        }#T_33ba4bce_55a0_11ec_9d88_0242ac1c0002row1_col12,#T_33ba4bce_55a0_11ec_9d88_0242ac1c0002row16_col18{\n",
              "            background-color:  #7ea1fa;\n",
              "            color:  #000000;\n",
              "        }#T_33ba4bce_55a0_11ec_9d88_0242ac1c0002row1_col14,#T_33ba4bce_55a0_11ec_9d88_0242ac1c0002row2_col0,#T_33ba4bce_55a0_11ec_9d88_0242ac1c0002row3_col2,#T_33ba4bce_55a0_11ec_9d88_0242ac1c0002row9_col2,#T_33ba4bce_55a0_11ec_9d88_0242ac1c0002row15_col18{\n",
              "            background-color:  #94b6ff;\n",
              "            color:  #000000;\n",
              "        }#T_33ba4bce_55a0_11ec_9d88_0242ac1c0002row1_col15,#T_33ba4bce_55a0_11ec_9d88_0242ac1c0002row3_col18,#T_33ba4bce_55a0_11ec_9d88_0242ac1c0002row17_col3{\n",
              "            background-color:  #82a6fb;\n",
              "            color:  #000000;\n",
              "        }#T_33ba4bce_55a0_11ec_9d88_0242ac1c0002row1_col16,#T_33ba4bce_55a0_11ec_9d88_0242ac1c0002row8_col16,#T_33ba4bce_55a0_11ec_9d88_0242ac1c0002row14_col9{\n",
              "            background-color:  #5a78e4;\n",
              "            color:  #000000;\n",
              "        }#T_33ba4bce_55a0_11ec_9d88_0242ac1c0002row1_col17,#T_33ba4bce_55a0_11ec_9d88_0242ac1c0002row2_col9,#T_33ba4bce_55a0_11ec_9d88_0242ac1c0002row3_col15,#T_33ba4bce_55a0_11ec_9d88_0242ac1c0002row6_col14,#T_33ba4bce_55a0_11ec_9d88_0242ac1c0002row8_col4,#T_33ba4bce_55a0_11ec_9d88_0242ac1c0002row18_col2{\n",
              "            background-color:  #6180e9;\n",
              "            color:  #000000;\n",
              "        }#T_33ba4bce_55a0_11ec_9d88_0242ac1c0002row2_col1{\n",
              "            background-color:  #f6bea4;\n",
              "            color:  #000000;\n",
              "        }#T_33ba4bce_55a0_11ec_9d88_0242ac1c0002row2_col4{\n",
              "            background-color:  #6384eb;\n",
              "            color:  #000000;\n",
              "        }#T_33ba4bce_55a0_11ec_9d88_0242ac1c0002row2_col5,#T_33ba4bce_55a0_11ec_9d88_0242ac1c0002row9_col3{\n",
              "            background-color:  #93b5fe;\n",
              "            color:  #000000;\n",
              "        }#T_33ba4bce_55a0_11ec_9d88_0242ac1c0002row2_col6,#T_33ba4bce_55a0_11ec_9d88_0242ac1c0002row14_col3{\n",
              "            background-color:  #86a9fc;\n",
              "            color:  #000000;\n",
              "        }#T_33ba4bce_55a0_11ec_9d88_0242ac1c0002row2_col10{\n",
              "            background-color:  #f4c5ad;\n",
              "            color:  #000000;\n",
              "        }#T_33ba4bce_55a0_11ec_9d88_0242ac1c0002row2_col11,#T_33ba4bce_55a0_11ec_9d88_0242ac1c0002row3_col11,#T_33ba4bce_55a0_11ec_9d88_0242ac1c0002row4_col11,#T_33ba4bce_55a0_11ec_9d88_0242ac1c0002row5_col11,#T_33ba4bce_55a0_11ec_9d88_0242ac1c0002row6_col11,#T_33ba4bce_55a0_11ec_9d88_0242ac1c0002row7_col11,#T_33ba4bce_55a0_11ec_9d88_0242ac1c0002row8_col11,#T_33ba4bce_55a0_11ec_9d88_0242ac1c0002row9_col11,#T_33ba4bce_55a0_11ec_9d88_0242ac1c0002row10_col11,#T_33ba4bce_55a0_11ec_9d88_0242ac1c0002row11_col2,#T_33ba4bce_55a0_11ec_9d88_0242ac1c0002row11_col3,#T_33ba4bce_55a0_11ec_9d88_0242ac1c0002row11_col4,#T_33ba4bce_55a0_11ec_9d88_0242ac1c0002row11_col5,#T_33ba4bce_55a0_11ec_9d88_0242ac1c0002row11_col6,#T_33ba4bce_55a0_11ec_9d88_0242ac1c0002row11_col7,#T_33ba4bce_55a0_11ec_9d88_0242ac1c0002row11_col8,#T_33ba4bce_55a0_11ec_9d88_0242ac1c0002row11_col9,#T_33ba4bce_55a0_11ec_9d88_0242ac1c0002row11_col10,#T_33ba4bce_55a0_11ec_9d88_0242ac1c0002row11_col14,#T_33ba4bce_55a0_11ec_9d88_0242ac1c0002row11_col15,#T_33ba4bce_55a0_11ec_9d88_0242ac1c0002row11_col16,#T_33ba4bce_55a0_11ec_9d88_0242ac1c0002row11_col17,#T_33ba4bce_55a0_11ec_9d88_0242ac1c0002row11_col18,#T_33ba4bce_55a0_11ec_9d88_0242ac1c0002row14_col11,#T_33ba4bce_55a0_11ec_9d88_0242ac1c0002row15_col11,#T_33ba4bce_55a0_11ec_9d88_0242ac1c0002row16_col11,#T_33ba4bce_55a0_11ec_9d88_0242ac1c0002row17_col11,#T_33ba4bce_55a0_11ec_9d88_0242ac1c0002row18_col11{\n",
              "            background-color:  #000000;\n",
              "            color:  #f1f1f1;\n",
              "        }#T_33ba4bce_55a0_11ec_9d88_0242ac1c0002row2_col12,#T_33ba4bce_55a0_11ec_9d88_0242ac1c0002row9_col17{\n",
              "            background-color:  #6282ea;\n",
              "            color:  #000000;\n",
              "        }#T_33ba4bce_55a0_11ec_9d88_0242ac1c0002row2_col13,#T_33ba4bce_55a0_11ec_9d88_0242ac1c0002row15_col13,#T_33ba4bce_55a0_11ec_9d88_0242ac1c0002row17_col14{\n",
              "            background-color:  #cdd9ec;\n",
              "            color:  #000000;\n",
              "        }#T_33ba4bce_55a0_11ec_9d88_0242ac1c0002row2_col14{\n",
              "            background-color:  #d2dbe8;\n",
              "            color:  #000000;\n",
              "        }#T_33ba4bce_55a0_11ec_9d88_0242ac1c0002row2_col15,#T_33ba4bce_55a0_11ec_9d88_0242ac1c0002row8_col6{\n",
              "            background-color:  #c6d6f1;\n",
              "            color:  #000000;\n",
              "        }#T_33ba4bce_55a0_11ec_9d88_0242ac1c0002row2_col16,#T_33ba4bce_55a0_11ec_9d88_0242ac1c0002row6_col12,#T_33ba4bce_55a0_11ec_9d88_0242ac1c0002row8_col18{\n",
              "            background-color:  #8db0fe;\n",
              "            color:  #000000;\n",
              "        }#T_33ba4bce_55a0_11ec_9d88_0242ac1c0002row2_col17,#T_33ba4bce_55a0_11ec_9d88_0242ac1c0002row13_col18{\n",
              "            background-color:  #90b2fe;\n",
              "            color:  #000000;\n",
              "        }#T_33ba4bce_55a0_11ec_9d88_0242ac1c0002row2_col18,#T_33ba4bce_55a0_11ec_9d88_0242ac1c0002row8_col0,#T_33ba4bce_55a0_11ec_9d88_0242ac1c0002row9_col0,#T_33ba4bce_55a0_11ec_9d88_0242ac1c0002row9_col14,#T_33ba4bce_55a0_11ec_9d88_0242ac1c0002row14_col12,#T_33ba4bce_55a0_11ec_9d88_0242ac1c0002row17_col6{\n",
              "            background-color:  #7295f4;\n",
              "            color:  #000000;\n",
              "        }#T_33ba4bce_55a0_11ec_9d88_0242ac1c0002row3_col0,#T_33ba4bce_55a0_11ec_9d88_0242ac1c0002row16_col17{\n",
              "            background-color:  #84a7fc;\n",
              "            color:  #000000;\n",
              "        }#T_33ba4bce_55a0_11ec_9d88_0242ac1c0002row3_col1,#T_33ba4bce_55a0_11ec_9d88_0242ac1c0002row4_col1,#T_33ba4bce_55a0_11ec_9d88_0242ac1c0002row7_col13{\n",
              "            background-color:  #e0dbd8;\n",
              "            color:  #000000;\n",
              "        }#T_33ba4bce_55a0_11ec_9d88_0242ac1c0002row3_col4{\n",
              "            background-color:  #bd1f2d;\n",
              "            color:  #f1f1f1;\n",
              "        }#T_33ba4bce_55a0_11ec_9d88_0242ac1c0002row3_col5,#T_33ba4bce_55a0_11ec_9d88_0242ac1c0002row4_col10{\n",
              "            background-color:  #bcd2f7;\n",
              "            color:  #000000;\n",
              "        }#T_33ba4bce_55a0_11ec_9d88_0242ac1c0002row3_col6,#T_33ba4bce_55a0_11ec_9d88_0242ac1c0002row4_col6,#T_33ba4bce_55a0_11ec_9d88_0242ac1c0002row6_col0,#T_33ba4bce_55a0_11ec_9d88_0242ac1c0002row10_col4,#T_33ba4bce_55a0_11ec_9d88_0242ac1c0002row14_col6,#T_33ba4bce_55a0_11ec_9d88_0242ac1c0002row16_col6{\n",
              "            background-color:  #5470de;\n",
              "            color:  #000000;\n",
              "        }#T_33ba4bce_55a0_11ec_9d88_0242ac1c0002row3_col8,#T_33ba4bce_55a0_11ec_9d88_0242ac1c0002row5_col18,#T_33ba4bce_55a0_11ec_9d88_0242ac1c0002row7_col0,#T_33ba4bce_55a0_11ec_9d88_0242ac1c0002row7_col2{\n",
              "            background-color:  #9bbcff;\n",
              "            color:  #000000;\n",
              "        }#T_33ba4bce_55a0_11ec_9d88_0242ac1c0002row3_col9,#T_33ba4bce_55a0_11ec_9d88_0242ac1c0002row8_col3,#T_33ba4bce_55a0_11ec_9d88_0242ac1c0002row9_col4{\n",
              "            background-color:  #80a3fa;\n",
              "            color:  #000000;\n",
              "        }#T_33ba4bce_55a0_11ec_9d88_0242ac1c0002row3_col12,#T_33ba4bce_55a0_11ec_9d88_0242ac1c0002row7_col16,#T_33ba4bce_55a0_11ec_9d88_0242ac1c0002row14_col4,#T_33ba4bce_55a0_11ec_9d88_0242ac1c0002row16_col9{\n",
              "            background-color:  #5572df;\n",
              "            color:  #000000;\n",
              "        }#T_33ba4bce_55a0_11ec_9d88_0242ac1c0002row3_col13{\n",
              "            background-color:  #d6dce4;\n",
              "            color:  #000000;\n",
              "        }#T_33ba4bce_55a0_11ec_9d88_0242ac1c0002row3_col14,#T_33ba4bce_55a0_11ec_9d88_0242ac1c0002row5_col3,#T_33ba4bce_55a0_11ec_9d88_0242ac1c0002row16_col8{\n",
              "            background-color:  #88abfd;\n",
              "            color:  #000000;\n",
              "        }#T_33ba4bce_55a0_11ec_9d88_0242ac1c0002row3_col16,#T_33ba4bce_55a0_11ec_9d88_0242ac1c0002row13_col14,#T_33ba4bce_55a0_11ec_9d88_0242ac1c0002row15_col4,#T_33ba4bce_55a0_11ec_9d88_0242ac1c0002row17_col4{\n",
              "            background-color:  #4c66d6;\n",
              "            color:  #000000;\n",
              "        }#T_33ba4bce_55a0_11ec_9d88_0242ac1c0002row3_col17,#T_33ba4bce_55a0_11ec_9d88_0242ac1c0002row5_col9,#T_33ba4bce_55a0_11ec_9d88_0242ac1c0002row18_col0{\n",
              "            background-color:  #7093f3;\n",
              "            color:  #000000;\n",
              "        }#T_33ba4bce_55a0_11ec_9d88_0242ac1c0002row4_col2{\n",
              "            background-color:  #9fbfff;\n",
              "            color:  #000000;\n",
              "        }#T_33ba4bce_55a0_11ec_9d88_0242ac1c0002row4_col3{\n",
              "            background-color:  #bb1b2c;\n",
              "            color:  #f1f1f1;\n",
              "        }#T_33ba4bce_55a0_11ec_9d88_0242ac1c0002row4_col5{\n",
              "            background-color:  #c7d7f0;\n",
              "            color:  #000000;\n",
              "        }#T_33ba4bce_55a0_11ec_9d88_0242ac1c0002row4_col7,#T_33ba4bce_55a0_11ec_9d88_0242ac1c0002row9_col13{\n",
              "            background-color:  #e7d7ce;\n",
              "            color:  #000000;\n",
              "        }#T_33ba4bce_55a0_11ec_9d88_0242ac1c0002row4_col8,#T_33ba4bce_55a0_11ec_9d88_0242ac1c0002row12_col5{\n",
              "            background-color:  #9dbdff;\n",
              "            color:  #000000;\n",
              "        }#T_33ba4bce_55a0_11ec_9d88_0242ac1c0002row4_col9{\n",
              "            background-color:  #89acfd;\n",
              "            color:  #000000;\n",
              "        }#T_33ba4bce_55a0_11ec_9d88_0242ac1c0002row4_col12,#T_33ba4bce_55a0_11ec_9d88_0242ac1c0002row5_col0,#T_33ba4bce_55a0_11ec_9d88_0242ac1c0002row10_col8,#T_33ba4bce_55a0_11ec_9d88_0242ac1c0002row18_col8{\n",
              "            background-color:  #7da0f9;\n",
              "            color:  #000000;\n",
              "        }#T_33ba4bce_55a0_11ec_9d88_0242ac1c0002row4_col13,#T_33ba4bce_55a0_11ec_9d88_0242ac1c0002row6_col8{\n",
              "            background-color:  #dcdddd;\n",
              "            color:  #000000;\n",
              "        }#T_33ba4bce_55a0_11ec_9d88_0242ac1c0002row4_col14,#T_33ba4bce_55a0_11ec_9d88_0242ac1c0002row13_col5{\n",
              "            background-color:  #799cf8;\n",
              "            color:  #000000;\n",
              "        }#T_33ba4bce_55a0_11ec_9d88_0242ac1c0002row4_col16{\n",
              "            background-color:  #516ddb;\n",
              "            color:  #000000;\n",
              "        }#T_33ba4bce_55a0_11ec_9d88_0242ac1c0002row4_col17,#T_33ba4bce_55a0_11ec_9d88_0242ac1c0002row8_col17,#T_33ba4bce_55a0_11ec_9d88_0242ac1c0002row9_col16,#T_33ba4bce_55a0_11ec_9d88_0242ac1c0002row16_col3{\n",
              "            background-color:  #5d7ce6;\n",
              "            color:  #000000;\n",
              "        }#T_33ba4bce_55a0_11ec_9d88_0242ac1c0002row4_col18{\n",
              "            background-color:  #8badfd;\n",
              "            color:  #000000;\n",
              "        }#T_33ba4bce_55a0_11ec_9d88_0242ac1c0002row5_col1,#T_33ba4bce_55a0_11ec_9d88_0242ac1c0002row14_col7,#T_33ba4bce_55a0_11ec_9d88_0242ac1c0002row17_col13{\n",
              "            background-color:  #f0cdbb;\n",
              "            color:  #000000;\n",
              "        }#T_33ba4bce_55a0_11ec_9d88_0242ac1c0002row5_col6,#T_33ba4bce_55a0_11ec_9d88_0242ac1c0002row12_col2{\n",
              "            background-color:  #6687ed;\n",
              "            color:  #000000;\n",
              "        }#T_33ba4bce_55a0_11ec_9d88_0242ac1c0002row5_col8{\n",
              "            background-color:  #cfdaea;\n",
              "            color:  #000000;\n",
              "        }#T_33ba4bce_55a0_11ec_9d88_0242ac1c0002row5_col10,#T_33ba4bce_55a0_11ec_9d88_0242ac1c0002row6_col16{\n",
              "            background-color:  #4f69d9;\n",
              "            color:  #000000;\n",
              "        }#T_33ba4bce_55a0_11ec_9d88_0242ac1c0002row5_col13{\n",
              "            background-color:  #c0d4f5;\n",
              "            color:  #000000;\n",
              "        }#T_33ba4bce_55a0_11ec_9d88_0242ac1c0002row5_col14,#T_33ba4bce_55a0_11ec_9d88_0242ac1c0002row7_col6,#T_33ba4bce_55a0_11ec_9d88_0242ac1c0002row8_col9,#T_33ba4bce_55a0_11ec_9d88_0242ac1c0002row10_col0{\n",
              "            background-color:  #7699f6;\n",
              "            color:  #000000;\n",
              "        }#T_33ba4bce_55a0_11ec_9d88_0242ac1c0002row5_col15,#T_33ba4bce_55a0_11ec_9d88_0242ac1c0002row12_col7,#T_33ba4bce_55a0_11ec_9d88_0242ac1c0002row15_col0,#T_33ba4bce_55a0_11ec_9d88_0242ac1c0002row15_col12{\n",
              "            background-color:  #7396f5;\n",
              "            color:  #000000;\n",
              "        }#T_33ba4bce_55a0_11ec_9d88_0242ac1c0002row5_col17,#T_33ba4bce_55a0_11ec_9d88_0242ac1c0002row12_col14,#T_33ba4bce_55a0_11ec_9d88_0242ac1c0002row12_col17,#T_33ba4bce_55a0_11ec_9d88_0242ac1c0002row13_col6{\n",
              "            background-color:  #5977e3;\n",
              "            color:  #000000;\n",
              "        }#T_33ba4bce_55a0_11ec_9d88_0242ac1c0002row6_col1,#T_33ba4bce_55a0_11ec_9d88_0242ac1c0002row12_col10{\n",
              "            background-color:  #e1dad6;\n",
              "            color:  #000000;\n",
              "        }#T_33ba4bce_55a0_11ec_9d88_0242ac1c0002row6_col2,#T_33ba4bce_55a0_11ec_9d88_0242ac1c0002row6_col5{\n",
              "            background-color:  #aac7fd;\n",
              "            color:  #000000;\n",
              "        }#T_33ba4bce_55a0_11ec_9d88_0242ac1c0002row6_col4{\n",
              "            background-color:  #3d50c3;\n",
              "            color:  #f1f1f1;\n",
              "        }#T_33ba4bce_55a0_11ec_9d88_0242ac1c0002row6_col7,#T_33ba4bce_55a0_11ec_9d88_0242ac1c0002row18_col10{\n",
              "            background-color:  #c4d5f3;\n",
              "            color:  #000000;\n",
              "        }#T_33ba4bce_55a0_11ec_9d88_0242ac1c0002row6_col9,#T_33ba4bce_55a0_11ec_9d88_0242ac1c0002row12_col16{\n",
              "            background-color:  #4b64d5;\n",
              "            color:  #f1f1f1;\n",
              "        }#T_33ba4bce_55a0_11ec_9d88_0242ac1c0002row6_col10,#T_33ba4bce_55a0_11ec_9d88_0242ac1c0002row14_col5{\n",
              "            background-color:  #adc9fd;\n",
              "            color:  #000000;\n",
              "        }#T_33ba4bce_55a0_11ec_9d88_0242ac1c0002row6_col13,#T_33ba4bce_55a0_11ec_9d88_0242ac1c0002row10_col17,#T_33ba4bce_55a0_11ec_9d88_0242ac1c0002row12_col1,#T_33ba4bce_55a0_11ec_9d88_0242ac1c0002row18_col13{\n",
              "            background-color:  #d8dce2;\n",
              "            color:  #000000;\n",
              "        }#T_33ba4bce_55a0_11ec_9d88_0242ac1c0002row6_col17,#T_33ba4bce_55a0_11ec_9d88_0242ac1c0002row10_col3,#T_33ba4bce_55a0_11ec_9d88_0242ac1c0002row12_col6,#T_33ba4bce_55a0_11ec_9d88_0242ac1c0002row14_col0{\n",
              "            background-color:  #6a8bef;\n",
              "            color:  #000000;\n",
              "        }#T_33ba4bce_55a0_11ec_9d88_0242ac1c0002row7_col1,#T_33ba4bce_55a0_11ec_9d88_0242ac1c0002row10_col2{\n",
              "            background-color:  #e9d5cb;\n",
              "            color:  #000000;\n",
              "        }#T_33ba4bce_55a0_11ec_9d88_0242ac1c0002row7_col3{\n",
              "            background-color:  #b6cefa;\n",
              "            color:  #000000;\n",
              "        }#T_33ba4bce_55a0_11ec_9d88_0242ac1c0002row7_col4{\n",
              "            background-color:  #a2c1ff;\n",
              "            color:  #000000;\n",
              "        }#T_33ba4bce_55a0_11ec_9d88_0242ac1c0002row7_col5{\n",
              "            background-color:  #bed2f6;\n",
              "            color:  #000000;\n",
              "        }#T_33ba4bce_55a0_11ec_9d88_0242ac1c0002row7_col8,#T_33ba4bce_55a0_11ec_9d88_0242ac1c0002row15_col14{\n",
              "            background-color:  #e4d9d2;\n",
              "            color:  #000000;\n",
              "        }#T_33ba4bce_55a0_11ec_9d88_0242ac1c0002row7_col14{\n",
              "            background-color:  #d1dae9;\n",
              "            color:  #000000;\n",
              "        }#T_33ba4bce_55a0_11ec_9d88_0242ac1c0002row7_col15,#T_33ba4bce_55a0_11ec_9d88_0242ac1c0002row14_col13{\n",
              "            background-color:  #cbd8ee;\n",
              "            color:  #000000;\n",
              "        }#T_33ba4bce_55a0_11ec_9d88_0242ac1c0002row7_col17,#T_33ba4bce_55a0_11ec_9d88_0242ac1c0002row12_col9,#T_33ba4bce_55a0_11ec_9d88_0242ac1c0002row14_col17{\n",
              "            background-color:  #c1d4f4;\n",
              "            color:  #000000;\n",
              "        }#T_33ba4bce_55a0_11ec_9d88_0242ac1c0002row8_col1{\n",
              "            background-color:  #f7b194;\n",
              "            color:  #000000;\n",
              "        }#T_33ba4bce_55a0_11ec_9d88_0242ac1c0002row8_col5,#T_33ba4bce_55a0_11ec_9d88_0242ac1c0002row14_col2,#T_33ba4bce_55a0_11ec_9d88_0242ac1c0002row17_col1{\n",
              "            background-color:  #dfdbd9;\n",
              "            color:  #000000;\n",
              "        }#T_33ba4bce_55a0_11ec_9d88_0242ac1c0002row8_col7{\n",
              "            background-color:  #f2c9b4;\n",
              "            color:  #000000;\n",
              "        }#T_33ba4bce_55a0_11ec_9d88_0242ac1c0002row8_col10,#T_33ba4bce_55a0_11ec_9d88_0242ac1c0002row10_col18{\n",
              "            background-color:  #abc8fd;\n",
              "            color:  #000000;\n",
              "        }#T_33ba4bce_55a0_11ec_9d88_0242ac1c0002row8_col12,#T_33ba4bce_55a0_11ec_9d88_0242ac1c0002row9_col15,#T_33ba4bce_55a0_11ec_9d88_0242ac1c0002row14_col8{\n",
              "            background-color:  #81a4fb;\n",
              "            color:  #000000;\n",
              "        }#T_33ba4bce_55a0_11ec_9d88_0242ac1c0002row8_col13,#T_33ba4bce_55a0_11ec_9d88_0242ac1c0002row16_col5,#T_33ba4bce_55a0_11ec_9d88_0242ac1c0002row16_col10{\n",
              "            background-color:  #b2ccfb;\n",
              "            color:  #000000;\n",
              "        }#T_33ba4bce_55a0_11ec_9d88_0242ac1c0002row8_col15,#T_33ba4bce_55a0_11ec_9d88_0242ac1c0002row17_col18{\n",
              "            background-color:  #7b9ff9;\n",
              "            color:  #000000;\n",
              "        }#T_33ba4bce_55a0_11ec_9d88_0242ac1c0002row9_col1{\n",
              "            background-color:  #ead5c9;\n",
              "            color:  #000000;\n",
              "        }#T_33ba4bce_55a0_11ec_9d88_0242ac1c0002row9_col7{\n",
              "            background-color:  #a1c0ff;\n",
              "            color:  #000000;\n",
              "        }#T_33ba4bce_55a0_11ec_9d88_0242ac1c0002row9_col10,#T_33ba4bce_55a0_11ec_9d88_0242ac1c0002row14_col15{\n",
              "            background-color:  #dddcdc;\n",
              "            color:  #000000;\n",
              "        }#T_33ba4bce_55a0_11ec_9d88_0242ac1c0002row9_col12,#T_33ba4bce_55a0_11ec_9d88_0242ac1c0002row16_col1{\n",
              "            background-color:  #dbdcde;\n",
              "            color:  #000000;\n",
              "        }#T_33ba4bce_55a0_11ec_9d88_0242ac1c0002row9_col18,#T_33ba4bce_55a0_11ec_9d88_0242ac1c0002row15_col10{\n",
              "            background-color:  #aec9fc;\n",
              "            color:  #000000;\n",
              "        }#T_33ba4bce_55a0_11ec_9d88_0242ac1c0002row10_col1{\n",
              "            background-color:  #ead4c8;\n",
              "            color:  #000000;\n",
              "        }#T_33ba4bce_55a0_11ec_9d88_0242ac1c0002row10_col6{\n",
              "            background-color:  #5673e0;\n",
              "            color:  #000000;\n",
              "        }#T_33ba4bce_55a0_11ec_9d88_0242ac1c0002row10_col12{\n",
              "            background-color:  #c5d6f2;\n",
              "            color:  #000000;\n",
              "        }#T_33ba4bce_55a0_11ec_9d88_0242ac1c0002row10_col13,#T_33ba4bce_55a0_11ec_9d88_0242ac1c0002row17_col7{\n",
              "            background-color:  #efcfbf;\n",
              "            color:  #000000;\n",
              "        }#T_33ba4bce_55a0_11ec_9d88_0242ac1c0002row10_col14{\n",
              "            background-color:  #9abbff;\n",
              "            color:  #000000;\n",
              "        }#T_33ba4bce_55a0_11ec_9d88_0242ac1c0002row12_col4{\n",
              "            background-color:  #4055c8;\n",
              "            color:  #f1f1f1;\n",
              "        }#T_33ba4bce_55a0_11ec_9d88_0242ac1c0002row12_col8,#T_33ba4bce_55a0_11ec_9d88_0242ac1c0002row17_col12,#T_33ba4bce_55a0_11ec_9d88_0242ac1c0002row17_col16{\n",
              "            background-color:  #85a8fc;\n",
              "            color:  #000000;\n",
              "        }#T_33ba4bce_55a0_11ec_9d88_0242ac1c0002row12_col13{\n",
              "            background-color:  #f1cdba;\n",
              "            color:  #000000;\n",
              "        }#T_33ba4bce_55a0_11ec_9d88_0242ac1c0002row12_col15,#T_33ba4bce_55a0_11ec_9d88_0242ac1c0002row17_col15{\n",
              "            background-color:  #4961d2;\n",
              "            color:  #f1f1f1;\n",
              "        }#T_33ba4bce_55a0_11ec_9d88_0242ac1c0002row12_col18{\n",
              "            background-color:  #9ebeff;\n",
              "            color:  #000000;\n",
              "        }#T_33ba4bce_55a0_11ec_9d88_0242ac1c0002row13_col0,#T_33ba4bce_55a0_11ec_9d88_0242ac1c0002row13_col8{\n",
              "            background-color:  #4358cb;\n",
              "            color:  #f1f1f1;\n",
              "        }#T_33ba4bce_55a0_11ec_9d88_0242ac1c0002row13_col4{\n",
              "            background-color:  #4a63d3;\n",
              "            color:  #f1f1f1;\n",
              "        }#T_33ba4bce_55a0_11ec_9d88_0242ac1c0002row13_col7{\n",
              "            background-color:  #bbd1f8;\n",
              "            color:  #000000;\n",
              "        }#T_33ba4bce_55a0_11ec_9d88_0242ac1c0002row13_col9,#T_33ba4bce_55a0_11ec_9d88_0242ac1c0002row15_col3,#T_33ba4bce_55a0_11ec_9d88_0242ac1c0002row18_col9{\n",
              "            background-color:  #6f92f3;\n",
              "            color:  #000000;\n",
              "        }#T_33ba4bce_55a0_11ec_9d88_0242ac1c0002row13_col10{\n",
              "            background-color:  #d5dbe5;\n",
              "            color:  #000000;\n",
              "        }#T_33ba4bce_55a0_11ec_9d88_0242ac1c0002row13_col12,#T_33ba4bce_55a0_11ec_9d88_0242ac1c0002row15_col5,#T_33ba4bce_55a0_11ec_9d88_0242ac1c0002row17_col2{\n",
              "            background-color:  #b7cff9;\n",
              "            color:  #000000;\n",
              "        }#T_33ba4bce_55a0_11ec_9d88_0242ac1c0002row13_col15{\n",
              "            background-color:  #3e51c5;\n",
              "            color:  #f1f1f1;\n",
              "        }#T_33ba4bce_55a0_11ec_9d88_0242ac1c0002row13_col17{\n",
              "            background-color:  #92b4fe;\n",
              "            color:  #000000;\n",
              "        }#T_33ba4bce_55a0_11ec_9d88_0242ac1c0002row14_col1{\n",
              "            background-color:  #ecd3c5;\n",
              "            color:  #000000;\n",
              "        }#T_33ba4bce_55a0_11ec_9d88_0242ac1c0002row14_col16{\n",
              "            background-color:  #96b7ff;\n",
              "            color:  #000000;\n",
              "        }#T_33ba4bce_55a0_11ec_9d88_0242ac1c0002row15_col1{\n",
              "            background-color:  #ebd3c6;\n",
              "            color:  #000000;\n",
              "        }#T_33ba4bce_55a0_11ec_9d88_0242ac1c0002row15_col2{\n",
              "            background-color:  #dedcdb;\n",
              "            color:  #000000;\n",
              "        }#T_33ba4bce_55a0_11ec_9d88_0242ac1c0002row15_col7{\n",
              "            background-color:  #f2cbb7;\n",
              "            color:  #000000;\n",
              "        }#T_33ba4bce_55a0_11ec_9d88_0242ac1c0002row15_col17{\n",
              "            background-color:  #465ecf;\n",
              "            color:  #f1f1f1;\n",
              "        }#T_33ba4bce_55a0_11ec_9d88_0242ac1c0002row16_col2{\n",
              "            background-color:  #b3cdfb;\n",
              "            color:  #000000;\n",
              "        }#T_33ba4bce_55a0_11ec_9d88_0242ac1c0002row16_col4,#T_33ba4bce_55a0_11ec_9d88_0242ac1c0002row18_col16{\n",
              "            background-color:  #3f53c6;\n",
              "            color:  #f1f1f1;\n",
              "        }#T_33ba4bce_55a0_11ec_9d88_0242ac1c0002row16_col7{\n",
              "            background-color:  #afcafc;\n",
              "            color:  #000000;\n",
              "        }#T_33ba4bce_55a0_11ec_9d88_0242ac1c0002row17_col0{\n",
              "            background-color:  #5f7fe8;\n",
              "            color:  #000000;\n",
              "        }#T_33ba4bce_55a0_11ec_9d88_0242ac1c0002row17_col10{\n",
              "            background-color:  #f5c1a9;\n",
              "            color:  #000000;\n",
              "        }#T_33ba4bce_55a0_11ec_9d88_0242ac1c0002row18_col1{\n",
              "            background-color:  #f5c0a7;\n",
              "            color:  #000000;\n",
              "        }#T_33ba4bce_55a0_11ec_9d88_0242ac1c0002row18_col5{\n",
              "            background-color:  #a9c6fd;\n",
              "            color:  #000000;\n",
              "        }</style><table id=\"T_33ba4bce_55a0_11ec_9d88_0242ac1c0002\" class=\"dataframe\"><thead>    <tr>        <th class=\"blank level0\" ></th>        <th class=\"col_heading level0 col0\" >TypeFlag</th>        <th class=\"col_heading level0 col1\" >PlanetaryMassJpt</th>        <th class=\"col_heading level0 col2\" >RadiusJpt</th>        <th class=\"col_heading level0 col3\" >PeriodDays</th>        <th class=\"col_heading level0 col4\" >SemiMajorAxisAU</th>        <th class=\"col_heading level0 col5\" >Eccentricity</th>        <th class=\"col_heading level0 col6\" >PeriastronDeg</th>        <th class=\"col_heading level0 col7\" >LongitudeDeg</th>        <th class=\"col_heading level0 col8\" >AscendingNodeDeg</th>        <th class=\"col_heading level0 col9\" >InclinationDeg</th>        <th class=\"col_heading level0 col10\" >SurfaceTempK</th>        <th class=\"col_heading level0 col11\" >AgeGyr</th>        <th class=\"col_heading level0 col12\" >DiscoveryYear</th>        <th class=\"col_heading level0 col13\" >DistFromSunParsec</th>        <th class=\"col_heading level0 col14\" >HostStarMassSlrMass</th>        <th class=\"col_heading level0 col15\" >HostStarRadiusSlrRad</th>        <th class=\"col_heading level0 col16\" >HostStarMetallicity</th>        <th class=\"col_heading level0 col17\" >HostStarTempK</th>        <th class=\"col_heading level0 col18\" >HostStarAgeGyr</th>    </tr></thead><tbody>\n",
              "                <tr>\n",
              "                        <th id=\"T_33ba4bce_55a0_11ec_9d88_0242ac1c0002level0_row0\" class=\"row_heading level0 row0\" >TypeFlag</th>\n",
              "                        <td id=\"T_33ba4bce_55a0_11ec_9d88_0242ac1c0002row0_col0\" class=\"data row0 col0\" >1.00</td>\n",
              "                        <td id=\"T_33ba4bce_55a0_11ec_9d88_0242ac1c0002row0_col1\" class=\"data row0 col1\" >0.07</td>\n",
              "                        <td id=\"T_33ba4bce_55a0_11ec_9d88_0242ac1c0002row0_col2\" class=\"data row0 col2\" >0.16</td>\n",
              "                        <td id=\"T_33ba4bce_55a0_11ec_9d88_0242ac1c0002row0_col3\" class=\"data row0 col3\" >0.11</td>\n",
              "                        <td id=\"T_33ba4bce_55a0_11ec_9d88_0242ac1c0002row0_col4\" class=\"data row0 col4\" >0.02</td>\n",
              "                        <td id=\"T_33ba4bce_55a0_11ec_9d88_0242ac1c0002row0_col5\" class=\"data row0 col5\" >0.09</td>\n",
              "                        <td id=\"T_33ba4bce_55a0_11ec_9d88_0242ac1c0002row0_col6\" class=\"data row0 col6\" >-0.06</td>\n",
              "                        <td id=\"T_33ba4bce_55a0_11ec_9d88_0242ac1c0002row0_col7\" class=\"data row0 col7\" >0.18</td>\n",
              "                        <td id=\"T_33ba4bce_55a0_11ec_9d88_0242ac1c0002row0_col8\" class=\"data row0 col8\" >0.05</td>\n",
              "                        <td id=\"T_33ba4bce_55a0_11ec_9d88_0242ac1c0002row0_col9\" class=\"data row0 col9\" >0.05</td>\n",
              "                        <td id=\"T_33ba4bce_55a0_11ec_9d88_0242ac1c0002row0_col10\" class=\"data row0 col10\" >0.06</td>\n",
              "                        <td id=\"T_33ba4bce_55a0_11ec_9d88_0242ac1c0002row0_col11\" class=\"data row0 col11\" >1.00</td>\n",
              "                        <td id=\"T_33ba4bce_55a0_11ec_9d88_0242ac1c0002row0_col12\" class=\"data row0 col12\" >-0.15</td>\n",
              "                        <td id=\"T_33ba4bce_55a0_11ec_9d88_0242ac1c0002row0_col13\" class=\"data row0 col13\" >-0.12</td>\n",
              "                        <td id=\"T_33ba4bce_55a0_11ec_9d88_0242ac1c0002row0_col14\" class=\"data row0 col14\" >0.02</td>\n",
              "                        <td id=\"T_33ba4bce_55a0_11ec_9d88_0242ac1c0002row0_col15\" class=\"data row0 col15\" >0.05</td>\n",
              "                        <td id=\"T_33ba4bce_55a0_11ec_9d88_0242ac1c0002row0_col16\" class=\"data row0 col16\" >0.04</td>\n",
              "                        <td id=\"T_33ba4bce_55a0_11ec_9d88_0242ac1c0002row0_col17\" class=\"data row0 col17\" >-0.02</td>\n",
              "                        <td id=\"T_33ba4bce_55a0_11ec_9d88_0242ac1c0002row0_col18\" class=\"data row0 col18\" >0.04</td>\n",
              "            </tr>\n",
              "            <tr>\n",
              "                        <th id=\"T_33ba4bce_55a0_11ec_9d88_0242ac1c0002level0_row1\" class=\"row_heading level0 row1\" >PlanetaryMassJpt</th>\n",
              "                        <td id=\"T_33ba4bce_55a0_11ec_9d88_0242ac1c0002row1_col0\" class=\"data row1 col0\" >0.07</td>\n",
              "                        <td id=\"T_33ba4bce_55a0_11ec_9d88_0242ac1c0002row1_col1\" class=\"data row1 col1\" >1.00</td>\n",
              "                        <td id=\"T_33ba4bce_55a0_11ec_9d88_0242ac1c0002row1_col2\" class=\"data row1 col2\" >0.29</td>\n",
              "                        <td id=\"T_33ba4bce_55a0_11ec_9d88_0242ac1c0002row1_col3\" class=\"data row1 col3\" >0.03</td>\n",
              "                        <td id=\"T_33ba4bce_55a0_11ec_9d88_0242ac1c0002row1_col4\" class=\"data row1 col4\" >0.02</td>\n",
              "                        <td id=\"T_33ba4bce_55a0_11ec_9d88_0242ac1c0002row1_col5\" class=\"data row1 col5\" >0.17</td>\n",
              "                        <td id=\"T_33ba4bce_55a0_11ec_9d88_0242ac1c0002row1_col6\" class=\"data row1 col6\" >0.03</td>\n",
              "                        <td id=\"T_33ba4bce_55a0_11ec_9d88_0242ac1c0002row1_col7\" class=\"data row1 col7\" >0.10</td>\n",
              "                        <td id=\"T_33ba4bce_55a0_11ec_9d88_0242ac1c0002row1_col8\" class=\"data row1 col8\" >0.37</td>\n",
              "                        <td id=\"T_33ba4bce_55a0_11ec_9d88_0242ac1c0002row1_col9\" class=\"data row1 col9\" >0.10</td>\n",
              "                        <td id=\"T_33ba4bce_55a0_11ec_9d88_0242ac1c0002row1_col10\" class=\"data row1 col10\" >0.11</td>\n",
              "                        <td id=\"T_33ba4bce_55a0_11ec_9d88_0242ac1c0002row1_col11\" class=\"data row1 col11\" >-1.00</td>\n",
              "                        <td id=\"T_33ba4bce_55a0_11ec_9d88_0242ac1c0002row1_col12\" class=\"data row1 col12\" >-0.03</td>\n",
              "                        <td id=\"T_33ba4bce_55a0_11ec_9d88_0242ac1c0002row1_col13\" class=\"data row1 col13\" >-0.03</td>\n",
              "                        <td id=\"T_33ba4bce_55a0_11ec_9d88_0242ac1c0002row1_col14\" class=\"data row1 col14\" >0.13</td>\n",
              "                        <td id=\"T_33ba4bce_55a0_11ec_9d88_0242ac1c0002row1_col15\" class=\"data row1 col15\" >0.12</td>\n",
              "                        <td id=\"T_33ba4bce_55a0_11ec_9d88_0242ac1c0002row1_col16\" class=\"data row1 col16\" >-0.01</td>\n",
              "                        <td id=\"T_33ba4bce_55a0_11ec_9d88_0242ac1c0002row1_col17\" class=\"data row1 col17\" >0.02</td>\n",
              "                        <td id=\"T_33ba4bce_55a0_11ec_9d88_0242ac1c0002row1_col18\" class=\"data row1 col18\" >0.28</td>\n",
              "            </tr>\n",
              "            <tr>\n",
              "                        <th id=\"T_33ba4bce_55a0_11ec_9d88_0242ac1c0002level0_row2\" class=\"row_heading level0 row2\" >RadiusJpt</th>\n",
              "                        <td id=\"T_33ba4bce_55a0_11ec_9d88_0242ac1c0002row2_col0\" class=\"data row2 col0\" >0.16</td>\n",
              "                        <td id=\"T_33ba4bce_55a0_11ec_9d88_0242ac1c0002row2_col1\" class=\"data row2 col1\" >0.29</td>\n",
              "                        <td id=\"T_33ba4bce_55a0_11ec_9d88_0242ac1c0002row2_col2\" class=\"data row2 col2\" >1.00</td>\n",
              "                        <td id=\"T_33ba4bce_55a0_11ec_9d88_0242ac1c0002row2_col3\" class=\"data row2 col3\" >0.04</td>\n",
              "                        <td id=\"T_33ba4bce_55a0_11ec_9d88_0242ac1c0002row2_col4\" class=\"data row2 col4\" >0.08</td>\n",
              "                        <td id=\"T_33ba4bce_55a0_11ec_9d88_0242ac1c0002row2_col5\" class=\"data row2 col5\" >-0.08</td>\n",
              "                        <td id=\"T_33ba4bce_55a0_11ec_9d88_0242ac1c0002row2_col6\" class=\"data row2 col6\" >0.12</td>\n",
              "                        <td id=\"T_33ba4bce_55a0_11ec_9d88_0242ac1c0002row2_col7\" class=\"data row2 col7\" >0.06</td>\n",
              "                        <td id=\"T_33ba4bce_55a0_11ec_9d88_0242ac1c0002row2_col8\" class=\"data row2 col8\" >-0.32</td>\n",
              "                        <td id=\"T_33ba4bce_55a0_11ec_9d88_0242ac1c0002row2_col9\" class=\"data row2 col9\" >0.03</td>\n",
              "                        <td id=\"T_33ba4bce_55a0_11ec_9d88_0242ac1c0002row2_col10\" class=\"data row2 col10\" >0.40</td>\n",
              "                        <td id=\"T_33ba4bce_55a0_11ec_9d88_0242ac1c0002row2_col11\" class=\"data row2 col11\" >nan</td>\n",
              "                        <td id=\"T_33ba4bce_55a0_11ec_9d88_0242ac1c0002row2_col12\" class=\"data row2 col12\" >-0.14</td>\n",
              "                        <td id=\"T_33ba4bce_55a0_11ec_9d88_0242ac1c0002row2_col13\" class=\"data row2 col13\" >-0.11</td>\n",
              "                        <td id=\"T_33ba4bce_55a0_11ec_9d88_0242ac1c0002row2_col14\" class=\"data row2 col14\" >0.35</td>\n",
              "                        <td id=\"T_33ba4bce_55a0_11ec_9d88_0242ac1c0002row2_col15\" class=\"data row2 col15\" >0.34</td>\n",
              "                        <td id=\"T_33ba4bce_55a0_11ec_9d88_0242ac1c0002row2_col16\" class=\"data row2 col16\" >0.16</td>\n",
              "                        <td id=\"T_33ba4bce_55a0_11ec_9d88_0242ac1c0002row2_col17\" class=\"data row2 col17\" >0.17</td>\n",
              "                        <td id=\"T_33ba4bce_55a0_11ec_9d88_0242ac1c0002row2_col18\" class=\"data row2 col18\" >-0.16</td>\n",
              "            </tr>\n",
              "            <tr>\n",
              "                        <th id=\"T_33ba4bce_55a0_11ec_9d88_0242ac1c0002level0_row3\" class=\"row_heading level0 row3\" >PeriodDays</th>\n",
              "                        <td id=\"T_33ba4bce_55a0_11ec_9d88_0242ac1c0002row3_col0\" class=\"data row3 col0\" >0.11</td>\n",
              "                        <td id=\"T_33ba4bce_55a0_11ec_9d88_0242ac1c0002row3_col1\" class=\"data row3 col1\" >0.03</td>\n",
              "                        <td id=\"T_33ba4bce_55a0_11ec_9d88_0242ac1c0002row3_col2\" class=\"data row3 col2\" >0.04</td>\n",
              "                        <td id=\"T_33ba4bce_55a0_11ec_9d88_0242ac1c0002row3_col3\" class=\"data row3 col3\" >1.00</td>\n",
              "                        <td id=\"T_33ba4bce_55a0_11ec_9d88_0242ac1c0002row3_col4\" class=\"data row3 col4\" >0.97</td>\n",
              "                        <td id=\"T_33ba4bce_55a0_11ec_9d88_0242ac1c0002row3_col5\" class=\"data row3 col5\" >0.09</td>\n",
              "                        <td id=\"T_33ba4bce_55a0_11ec_9d88_0242ac1c0002row3_col6\" class=\"data row3 col6\" >-0.05</td>\n",
              "                        <td id=\"T_33ba4bce_55a0_11ec_9d88_0242ac1c0002row3_col7\" class=\"data row3 col7\" >0.25</td>\n",
              "                        <td id=\"T_33ba4bce_55a0_11ec_9d88_0242ac1c0002row3_col8\" class=\"data row3 col8\" >0.06</td>\n",
              "                        <td id=\"T_33ba4bce_55a0_11ec_9d88_0242ac1c0002row3_col9\" class=\"data row3 col9\" >0.13</td>\n",
              "                        <td id=\"T_33ba4bce_55a0_11ec_9d88_0242ac1c0002row3_col10\" class=\"data row3 col10\" >-0.01</td>\n",
              "                        <td id=\"T_33ba4bce_55a0_11ec_9d88_0242ac1c0002row3_col11\" class=\"data row3 col11\" >nan</td>\n",
              "                        <td id=\"T_33ba4bce_55a0_11ec_9d88_0242ac1c0002row3_col12\" class=\"data row3 col12\" >-0.19</td>\n",
              "                        <td id=\"T_33ba4bce_55a0_11ec_9d88_0242ac1c0002row3_col13\" class=\"data row3 col13\" >-0.05</td>\n",
              "                        <td id=\"T_33ba4bce_55a0_11ec_9d88_0242ac1c0002row3_col14\" class=\"data row3 col14\" >0.09</td>\n",
              "                        <td id=\"T_33ba4bce_55a0_11ec_9d88_0242ac1c0002row3_col15\" class=\"data row3 col15\" >0.01</td>\n",
              "                        <td id=\"T_33ba4bce_55a0_11ec_9d88_0242ac1c0002row3_col16\" class=\"data row3 col16\" >-0.06</td>\n",
              "                        <td id=\"T_33ba4bce_55a0_11ec_9d88_0242ac1c0002row3_col17\" class=\"data row3 col17\" >0.07</td>\n",
              "                        <td id=\"T_33ba4bce_55a0_11ec_9d88_0242ac1c0002row3_col18\" class=\"data row3 col18\" >-0.09</td>\n",
              "            </tr>\n",
              "            <tr>\n",
              "                        <th id=\"T_33ba4bce_55a0_11ec_9d88_0242ac1c0002level0_row4\" class=\"row_heading level0 row4\" >SemiMajorAxisAU</th>\n",
              "                        <td id=\"T_33ba4bce_55a0_11ec_9d88_0242ac1c0002row4_col0\" class=\"data row4 col0\" >0.02</td>\n",
              "                        <td id=\"T_33ba4bce_55a0_11ec_9d88_0242ac1c0002row4_col1\" class=\"data row4 col1\" >0.02</td>\n",
              "                        <td id=\"T_33ba4bce_55a0_11ec_9d88_0242ac1c0002row4_col2\" class=\"data row4 col2\" >0.08</td>\n",
              "                        <td id=\"T_33ba4bce_55a0_11ec_9d88_0242ac1c0002row4_col3\" class=\"data row4 col3\" >0.97</td>\n",
              "                        <td id=\"T_33ba4bce_55a0_11ec_9d88_0242ac1c0002row4_col4\" class=\"data row4 col4\" >1.00</td>\n",
              "                        <td id=\"T_33ba4bce_55a0_11ec_9d88_0242ac1c0002row4_col5\" class=\"data row4 col5\" >0.15</td>\n",
              "                        <td id=\"T_33ba4bce_55a0_11ec_9d88_0242ac1c0002row4_col6\" class=\"data row4 col6\" >-0.05</td>\n",
              "                        <td id=\"T_33ba4bce_55a0_11ec_9d88_0242ac1c0002row4_col7\" class=\"data row4 col7\" >0.27</td>\n",
              "                        <td id=\"T_33ba4bce_55a0_11ec_9d88_0242ac1c0002row4_col8\" class=\"data row4 col8\" >0.07</td>\n",
              "                        <td id=\"T_33ba4bce_55a0_11ec_9d88_0242ac1c0002row4_col9\" class=\"data row4 col9\" >0.16</td>\n",
              "                        <td id=\"T_33ba4bce_55a0_11ec_9d88_0242ac1c0002row4_col10\" class=\"data row4 col10\" >0.03</td>\n",
              "                        <td id=\"T_33ba4bce_55a0_11ec_9d88_0242ac1c0002row4_col11\" class=\"data row4 col11\" >nan</td>\n",
              "                        <td id=\"T_33ba4bce_55a0_11ec_9d88_0242ac1c0002row4_col12\" class=\"data row4 col12\" >-0.04</td>\n",
              "                        <td id=\"T_33ba4bce_55a0_11ec_9d88_0242ac1c0002row4_col13\" class=\"data row4 col13\" >-0.00</td>\n",
              "                        <td id=\"T_33ba4bce_55a0_11ec_9d88_0242ac1c0002row4_col14\" class=\"data row4 col14\" >0.03</td>\n",
              "                        <td id=\"T_33ba4bce_55a0_11ec_9d88_0242ac1c0002row4_col15\" class=\"data row4 col15\" >0.00</td>\n",
              "                        <td id=\"T_33ba4bce_55a0_11ec_9d88_0242ac1c0002row4_col16\" class=\"data row4 col16\" >-0.04</td>\n",
              "                        <td id=\"T_33ba4bce_55a0_11ec_9d88_0242ac1c0002row4_col17\" class=\"data row4 col17\" >0.00</td>\n",
              "                        <td id=\"T_33ba4bce_55a0_11ec_9d88_0242ac1c0002row4_col18\" class=\"data row4 col18\" >-0.06</td>\n",
              "            </tr>\n",
              "            <tr>\n",
              "                        <th id=\"T_33ba4bce_55a0_11ec_9d88_0242ac1c0002level0_row5\" class=\"row_heading level0 row5\" >Eccentricity</th>\n",
              "                        <td id=\"T_33ba4bce_55a0_11ec_9d88_0242ac1c0002row5_col0\" class=\"data row5 col0\" >0.09</td>\n",
              "                        <td id=\"T_33ba4bce_55a0_11ec_9d88_0242ac1c0002row5_col1\" class=\"data row5 col1\" >0.17</td>\n",
              "                        <td id=\"T_33ba4bce_55a0_11ec_9d88_0242ac1c0002row5_col2\" class=\"data row5 col2\" >-0.08</td>\n",
              "                        <td id=\"T_33ba4bce_55a0_11ec_9d88_0242ac1c0002row5_col3\" class=\"data row5 col3\" >0.09</td>\n",
              "                        <td id=\"T_33ba4bce_55a0_11ec_9d88_0242ac1c0002row5_col4\" class=\"data row5 col4\" >0.15</td>\n",
              "                        <td id=\"T_33ba4bce_55a0_11ec_9d88_0242ac1c0002row5_col5\" class=\"data row5 col5\" >1.00</td>\n",
              "                        <td id=\"T_33ba4bce_55a0_11ec_9d88_0242ac1c0002row5_col6\" class=\"data row5 col6\" >0.01</td>\n",
              "                        <td id=\"T_33ba4bce_55a0_11ec_9d88_0242ac1c0002row5_col7\" class=\"data row5 col7\" >0.10</td>\n",
              "                        <td id=\"T_33ba4bce_55a0_11ec_9d88_0242ac1c0002row5_col8\" class=\"data row5 col8\" >0.27</td>\n",
              "                        <td id=\"T_33ba4bce_55a0_11ec_9d88_0242ac1c0002row5_col9\" class=\"data row5 col9\" >0.08</td>\n",
              "                        <td id=\"T_33ba4bce_55a0_11ec_9d88_0242ac1c0002row5_col10\" class=\"data row5 col10\" >-0.48</td>\n",
              "                        <td id=\"T_33ba4bce_55a0_11ec_9d88_0242ac1c0002row5_col11\" class=\"data row5 col11\" >nan</td>\n",
              "                        <td id=\"T_33ba4bce_55a0_11ec_9d88_0242ac1c0002row5_col12\" class=\"data row5 col12\" >-0.05</td>\n",
              "                        <td id=\"T_33ba4bce_55a0_11ec_9d88_0242ac1c0002row5_col13\" class=\"data row5 col13\" >-0.20</td>\n",
              "                        <td id=\"T_33ba4bce_55a0_11ec_9d88_0242ac1c0002row5_col14\" class=\"data row5 col14\" >0.02</td>\n",
              "                        <td id=\"T_33ba4bce_55a0_11ec_9d88_0242ac1c0002row5_col15\" class=\"data row5 col15\" >0.07</td>\n",
              "                        <td id=\"T_33ba4bce_55a0_11ec_9d88_0242ac1c0002row5_col16\" class=\"data row5 col16\" >0.05</td>\n",
              "                        <td id=\"T_33ba4bce_55a0_11ec_9d88_0242ac1c0002row5_col17\" class=\"data row5 col17\" >-0.01</td>\n",
              "                        <td id=\"T_33ba4bce_55a0_11ec_9d88_0242ac1c0002row5_col18\" class=\"data row5 col18\" >0.01</td>\n",
              "            </tr>\n",
              "            <tr>\n",
              "                        <th id=\"T_33ba4bce_55a0_11ec_9d88_0242ac1c0002level0_row6\" class=\"row_heading level0 row6\" >PeriastronDeg</th>\n",
              "                        <td id=\"T_33ba4bce_55a0_11ec_9d88_0242ac1c0002row6_col0\" class=\"data row6 col0\" >-0.06</td>\n",
              "                        <td id=\"T_33ba4bce_55a0_11ec_9d88_0242ac1c0002row6_col1\" class=\"data row6 col1\" >0.03</td>\n",
              "                        <td id=\"T_33ba4bce_55a0_11ec_9d88_0242ac1c0002row6_col2\" class=\"data row6 col2\" >0.12</td>\n",
              "                        <td id=\"T_33ba4bce_55a0_11ec_9d88_0242ac1c0002row6_col3\" class=\"data row6 col3\" >-0.05</td>\n",
              "                        <td id=\"T_33ba4bce_55a0_11ec_9d88_0242ac1c0002row6_col4\" class=\"data row6 col4\" >-0.05</td>\n",
              "                        <td id=\"T_33ba4bce_55a0_11ec_9d88_0242ac1c0002row6_col5\" class=\"data row6 col5\" >0.01</td>\n",
              "                        <td id=\"T_33ba4bce_55a0_11ec_9d88_0242ac1c0002row6_col6\" class=\"data row6 col6\" >1.00</td>\n",
              "                        <td id=\"T_33ba4bce_55a0_11ec_9d88_0242ac1c0002row6_col7\" class=\"data row6 col7\" >0.06</td>\n",
              "                        <td id=\"T_33ba4bce_55a0_11ec_9d88_0242ac1c0002row6_col8\" class=\"data row6 col8\" >0.33</td>\n",
              "                        <td id=\"T_33ba4bce_55a0_11ec_9d88_0242ac1c0002row6_col9\" class=\"data row6 col9\" >-0.04</td>\n",
              "                        <td id=\"T_33ba4bce_55a0_11ec_9d88_0242ac1c0002row6_col10\" class=\"data row6 col10\" >-0.04</td>\n",
              "                        <td id=\"T_33ba4bce_55a0_11ec_9d88_0242ac1c0002row6_col11\" class=\"data row6 col11\" >nan</td>\n",
              "                        <td id=\"T_33ba4bce_55a0_11ec_9d88_0242ac1c0002row6_col12\" class=\"data row6 col12\" >0.02</td>\n",
              "                        <td id=\"T_33ba4bce_55a0_11ec_9d88_0242ac1c0002row6_col13\" class=\"data row6 col13\" >-0.04</td>\n",
              "                        <td id=\"T_33ba4bce_55a0_11ec_9d88_0242ac1c0002row6_col14\" class=\"data row6 col14\" >-0.05</td>\n",
              "                        <td id=\"T_33ba4bce_55a0_11ec_9d88_0242ac1c0002row6_col15\" class=\"data row6 col15\" >0.04</td>\n",
              "                        <td id=\"T_33ba4bce_55a0_11ec_9d88_0242ac1c0002row6_col16\" class=\"data row6 col16\" >-0.05</td>\n",
              "                        <td id=\"T_33ba4bce_55a0_11ec_9d88_0242ac1c0002row6_col17\" class=\"data row6 col17\" >0.05</td>\n",
              "                        <td id=\"T_33ba4bce_55a0_11ec_9d88_0242ac1c0002row6_col18\" class=\"data row6 col18\" >-0.15</td>\n",
              "            </tr>\n",
              "            <tr>\n",
              "                        <th id=\"T_33ba4bce_55a0_11ec_9d88_0242ac1c0002level0_row7\" class=\"row_heading level0 row7\" >LongitudeDeg</th>\n",
              "                        <td id=\"T_33ba4bce_55a0_11ec_9d88_0242ac1c0002row7_col0\" class=\"data row7 col0\" >0.18</td>\n",
              "                        <td id=\"T_33ba4bce_55a0_11ec_9d88_0242ac1c0002row7_col1\" class=\"data row7 col1\" >0.10</td>\n",
              "                        <td id=\"T_33ba4bce_55a0_11ec_9d88_0242ac1c0002row7_col2\" class=\"data row7 col2\" >0.06</td>\n",
              "                        <td id=\"T_33ba4bce_55a0_11ec_9d88_0242ac1c0002row7_col3\" class=\"data row7 col3\" >0.25</td>\n",
              "                        <td id=\"T_33ba4bce_55a0_11ec_9d88_0242ac1c0002row7_col4\" class=\"data row7 col4\" >0.27</td>\n",
              "                        <td id=\"T_33ba4bce_55a0_11ec_9d88_0242ac1c0002row7_col5\" class=\"data row7 col5\" >0.10</td>\n",
              "                        <td id=\"T_33ba4bce_55a0_11ec_9d88_0242ac1c0002row7_col6\" class=\"data row7 col6\" >0.06</td>\n",
              "                        <td id=\"T_33ba4bce_55a0_11ec_9d88_0242ac1c0002row7_col7\" class=\"data row7 col7\" >1.00</td>\n",
              "                        <td id=\"T_33ba4bce_55a0_11ec_9d88_0242ac1c0002row7_col8\" class=\"data row7 col8\" >0.38</td>\n",
              "                        <td id=\"T_33ba4bce_55a0_11ec_9d88_0242ac1c0002row7_col9\" class=\"data row7 col9\" >-0.10</td>\n",
              "                        <td id=\"T_33ba4bce_55a0_11ec_9d88_0242ac1c0002row7_col10\" class=\"data row7 col10\" >-0.59</td>\n",
              "                        <td id=\"T_33ba4bce_55a0_11ec_9d88_0242ac1c0002row7_col11\" class=\"data row7 col11\" >nan</td>\n",
              "                        <td id=\"T_33ba4bce_55a0_11ec_9d88_0242ac1c0002row7_col12\" class=\"data row7 col12\" >-0.30</td>\n",
              "                        <td id=\"T_33ba4bce_55a0_11ec_9d88_0242ac1c0002row7_col13\" class=\"data row7 col13\" >0.02</td>\n",
              "                        <td id=\"T_33ba4bce_55a0_11ec_9d88_0242ac1c0002row7_col14\" class=\"data row7 col14\" >0.35</td>\n",
              "                        <td id=\"T_33ba4bce_55a0_11ec_9d88_0242ac1c0002row7_col15\" class=\"data row7 col15\" >0.36</td>\n",
              "                        <td id=\"T_33ba4bce_55a0_11ec_9d88_0242ac1c0002row7_col16\" class=\"data row7 col16\" >-0.03</td>\n",
              "                        <td id=\"T_33ba4bce_55a0_11ec_9d88_0242ac1c0002row7_col17\" class=\"data row7 col17\" >0.33</td>\n",
              "                        <td id=\"T_33ba4bce_55a0_11ec_9d88_0242ac1c0002row7_col18\" class=\"data row7 col18\" >-0.40</td>\n",
              "            </tr>\n",
              "            <tr>\n",
              "                        <th id=\"T_33ba4bce_55a0_11ec_9d88_0242ac1c0002level0_row8\" class=\"row_heading level0 row8\" >AscendingNodeDeg</th>\n",
              "                        <td id=\"T_33ba4bce_55a0_11ec_9d88_0242ac1c0002row8_col0\" class=\"data row8 col0\" >0.05</td>\n",
              "                        <td id=\"T_33ba4bce_55a0_11ec_9d88_0242ac1c0002row8_col1\" class=\"data row8 col1\" >0.37</td>\n",
              "                        <td id=\"T_33ba4bce_55a0_11ec_9d88_0242ac1c0002row8_col2\" class=\"data row8 col2\" >-0.32</td>\n",
              "                        <td id=\"T_33ba4bce_55a0_11ec_9d88_0242ac1c0002row8_col3\" class=\"data row8 col3\" >0.06</td>\n",
              "                        <td id=\"T_33ba4bce_55a0_11ec_9d88_0242ac1c0002row8_col4\" class=\"data row8 col4\" >0.07</td>\n",
              "                        <td id=\"T_33ba4bce_55a0_11ec_9d88_0242ac1c0002row8_col5\" class=\"data row8 col5\" >0.27</td>\n",
              "                        <td id=\"T_33ba4bce_55a0_11ec_9d88_0242ac1c0002row8_col6\" class=\"data row8 col6\" >0.33</td>\n",
              "                        <td id=\"T_33ba4bce_55a0_11ec_9d88_0242ac1c0002row8_col7\" class=\"data row8 col7\" >0.38</td>\n",
              "                        <td id=\"T_33ba4bce_55a0_11ec_9d88_0242ac1c0002row8_col8\" class=\"data row8 col8\" >1.00</td>\n",
              "                        <td id=\"T_33ba4bce_55a0_11ec_9d88_0242ac1c0002row8_col9\" class=\"data row8 col9\" >0.10</td>\n",
              "                        <td id=\"T_33ba4bce_55a0_11ec_9d88_0242ac1c0002row8_col10\" class=\"data row8 col10\" >-0.05</td>\n",
              "                        <td id=\"T_33ba4bce_55a0_11ec_9d88_0242ac1c0002row8_col11\" class=\"data row8 col11\" >nan</td>\n",
              "                        <td id=\"T_33ba4bce_55a0_11ec_9d88_0242ac1c0002row8_col12\" class=\"data row8 col12\" >-0.02</td>\n",
              "                        <td id=\"T_33ba4bce_55a0_11ec_9d88_0242ac1c0002row8_col13\" class=\"data row8 col13\" >-0.29</td>\n",
              "                        <td id=\"T_33ba4bce_55a0_11ec_9d88_0242ac1c0002row8_col14\" class=\"data row8 col14\" >-0.04</td>\n",
              "                        <td id=\"T_33ba4bce_55a0_11ec_9d88_0242ac1c0002row8_col15\" class=\"data row8 col15\" >0.10</td>\n",
              "                        <td id=\"T_33ba4bce_55a0_11ec_9d88_0242ac1c0002row8_col16\" class=\"data row8 col16\" >-0.01</td>\n",
              "                        <td id=\"T_33ba4bce_55a0_11ec_9d88_0242ac1c0002row8_col17\" class=\"data row8 col17\" >0.00</td>\n",
              "                        <td id=\"T_33ba4bce_55a0_11ec_9d88_0242ac1c0002row8_col18\" class=\"data row8 col18\" >-0.05</td>\n",
              "            </tr>\n",
              "            <tr>\n",
              "                        <th id=\"T_33ba4bce_55a0_11ec_9d88_0242ac1c0002level0_row9\" class=\"row_heading level0 row9\" >InclinationDeg</th>\n",
              "                        <td id=\"T_33ba4bce_55a0_11ec_9d88_0242ac1c0002row9_col0\" class=\"data row9 col0\" >0.05</td>\n",
              "                        <td id=\"T_33ba4bce_55a0_11ec_9d88_0242ac1c0002row9_col1\" class=\"data row9 col1\" >0.10</td>\n",
              "                        <td id=\"T_33ba4bce_55a0_11ec_9d88_0242ac1c0002row9_col2\" class=\"data row9 col2\" >0.03</td>\n",
              "                        <td id=\"T_33ba4bce_55a0_11ec_9d88_0242ac1c0002row9_col3\" class=\"data row9 col3\" >0.13</td>\n",
              "                        <td id=\"T_33ba4bce_55a0_11ec_9d88_0242ac1c0002row9_col4\" class=\"data row9 col4\" >0.16</td>\n",
              "                        <td id=\"T_33ba4bce_55a0_11ec_9d88_0242ac1c0002row9_col5\" class=\"data row9 col5\" >0.08</td>\n",
              "                        <td id=\"T_33ba4bce_55a0_11ec_9d88_0242ac1c0002row9_col6\" class=\"data row9 col6\" >-0.04</td>\n",
              "                        <td id=\"T_33ba4bce_55a0_11ec_9d88_0242ac1c0002row9_col7\" class=\"data row9 col7\" >-0.10</td>\n",
              "                        <td id=\"T_33ba4bce_55a0_11ec_9d88_0242ac1c0002row9_col8\" class=\"data row9 col8\" >0.10</td>\n",
              "                        <td id=\"T_33ba4bce_55a0_11ec_9d88_0242ac1c0002row9_col9\" class=\"data row9 col9\" >1.00</td>\n",
              "                        <td id=\"T_33ba4bce_55a0_11ec_9d88_0242ac1c0002row9_col10\" class=\"data row9 col10\" >0.21</td>\n",
              "                        <td id=\"T_33ba4bce_55a0_11ec_9d88_0242ac1c0002row9_col11\" class=\"data row9 col11\" >nan</td>\n",
              "                        <td id=\"T_33ba4bce_55a0_11ec_9d88_0242ac1c0002row9_col12\" class=\"data row9 col12\" >0.34</td>\n",
              "                        <td id=\"T_33ba4bce_55a0_11ec_9d88_0242ac1c0002row9_col13\" class=\"data row9 col13\" >0.08</td>\n",
              "                        <td id=\"T_33ba4bce_55a0_11ec_9d88_0242ac1c0002row9_col14\" class=\"data row9 col14\" >0.01</td>\n",
              "                        <td id=\"T_33ba4bce_55a0_11ec_9d88_0242ac1c0002row9_col15\" class=\"data row9 col15\" >0.11</td>\n",
              "                        <td id=\"T_33ba4bce_55a0_11ec_9d88_0242ac1c0002row9_col16\" class=\"data row9 col16\" >-0.00</td>\n",
              "                        <td id=\"T_33ba4bce_55a0_11ec_9d88_0242ac1c0002row9_col17\" class=\"data row9 col17\" >0.02</td>\n",
              "                        <td id=\"T_33ba4bce_55a0_11ec_9d88_0242ac1c0002row9_col18\" class=\"data row9 col18\" >0.08</td>\n",
              "            </tr>\n",
              "            <tr>\n",
              "                        <th id=\"T_33ba4bce_55a0_11ec_9d88_0242ac1c0002level0_row10\" class=\"row_heading level0 row10\" >SurfaceTempK</th>\n",
              "                        <td id=\"T_33ba4bce_55a0_11ec_9d88_0242ac1c0002row10_col0\" class=\"data row10 col0\" >0.06</td>\n",
              "                        <td id=\"T_33ba4bce_55a0_11ec_9d88_0242ac1c0002row10_col1\" class=\"data row10 col1\" >0.11</td>\n",
              "                        <td id=\"T_33ba4bce_55a0_11ec_9d88_0242ac1c0002row10_col2\" class=\"data row10 col2\" >0.40</td>\n",
              "                        <td id=\"T_33ba4bce_55a0_11ec_9d88_0242ac1c0002row10_col3\" class=\"data row10 col3\" >-0.01</td>\n",
              "                        <td id=\"T_33ba4bce_55a0_11ec_9d88_0242ac1c0002row10_col4\" class=\"data row10 col4\" >0.03</td>\n",
              "                        <td id=\"T_33ba4bce_55a0_11ec_9d88_0242ac1c0002row10_col5\" class=\"data row10 col5\" >-0.48</td>\n",
              "                        <td id=\"T_33ba4bce_55a0_11ec_9d88_0242ac1c0002row10_col6\" class=\"data row10 col6\" >-0.04</td>\n",
              "                        <td id=\"T_33ba4bce_55a0_11ec_9d88_0242ac1c0002row10_col7\" class=\"data row10 col7\" >-0.59</td>\n",
              "                        <td id=\"T_33ba4bce_55a0_11ec_9d88_0242ac1c0002row10_col8\" class=\"data row10 col8\" >-0.05</td>\n",
              "                        <td id=\"T_33ba4bce_55a0_11ec_9d88_0242ac1c0002row10_col9\" class=\"data row10 col9\" >0.21</td>\n",
              "                        <td id=\"T_33ba4bce_55a0_11ec_9d88_0242ac1c0002row10_col10\" class=\"data row10 col10\" >1.00</td>\n",
              "                        <td id=\"T_33ba4bce_55a0_11ec_9d88_0242ac1c0002row10_col11\" class=\"data row10 col11\" >nan</td>\n",
              "                        <td id=\"T_33ba4bce_55a0_11ec_9d88_0242ac1c0002row10_col12\" class=\"data row10 col12\" >0.24</td>\n",
              "                        <td id=\"T_33ba4bce_55a0_11ec_9d88_0242ac1c0002row10_col13\" class=\"data row10 col13\" >0.16</td>\n",
              "                        <td id=\"T_33ba4bce_55a0_11ec_9d88_0242ac1c0002row10_col14\" class=\"data row10 col14\" >0.15</td>\n",
              "                        <td id=\"T_33ba4bce_55a0_11ec_9d88_0242ac1c0002row10_col15\" class=\"data row10 col15\" >-0.04</td>\n",
              "                        <td id=\"T_33ba4bce_55a0_11ec_9d88_0242ac1c0002row10_col16\" class=\"data row10 col16\" >-0.02</td>\n",
              "                        <td id=\"T_33ba4bce_55a0_11ec_9d88_0242ac1c0002row10_col17\" class=\"data row10 col17\" >0.42</td>\n",
              "                        <td id=\"T_33ba4bce_55a0_11ec_9d88_0242ac1c0002row10_col18\" class=\"data row10 col18\" >0.07</td>\n",
              "            </tr>\n",
              "            <tr>\n",
              "                        <th id=\"T_33ba4bce_55a0_11ec_9d88_0242ac1c0002level0_row11\" class=\"row_heading level0 row11\" >AgeGyr</th>\n",
              "                        <td id=\"T_33ba4bce_55a0_11ec_9d88_0242ac1c0002row11_col0\" class=\"data row11 col0\" >1.00</td>\n",
              "                        <td id=\"T_33ba4bce_55a0_11ec_9d88_0242ac1c0002row11_col1\" class=\"data row11 col1\" >-1.00</td>\n",
              "                        <td id=\"T_33ba4bce_55a0_11ec_9d88_0242ac1c0002row11_col2\" class=\"data row11 col2\" >nan</td>\n",
              "                        <td id=\"T_33ba4bce_55a0_11ec_9d88_0242ac1c0002row11_col3\" class=\"data row11 col3\" >nan</td>\n",
              "                        <td id=\"T_33ba4bce_55a0_11ec_9d88_0242ac1c0002row11_col4\" class=\"data row11 col4\" >nan</td>\n",
              "                        <td id=\"T_33ba4bce_55a0_11ec_9d88_0242ac1c0002row11_col5\" class=\"data row11 col5\" >nan</td>\n",
              "                        <td id=\"T_33ba4bce_55a0_11ec_9d88_0242ac1c0002row11_col6\" class=\"data row11 col6\" >nan</td>\n",
              "                        <td id=\"T_33ba4bce_55a0_11ec_9d88_0242ac1c0002row11_col7\" class=\"data row11 col7\" >nan</td>\n",
              "                        <td id=\"T_33ba4bce_55a0_11ec_9d88_0242ac1c0002row11_col8\" class=\"data row11 col8\" >nan</td>\n",
              "                        <td id=\"T_33ba4bce_55a0_11ec_9d88_0242ac1c0002row11_col9\" class=\"data row11 col9\" >nan</td>\n",
              "                        <td id=\"T_33ba4bce_55a0_11ec_9d88_0242ac1c0002row11_col10\" class=\"data row11 col10\" >nan</td>\n",
              "                        <td id=\"T_33ba4bce_55a0_11ec_9d88_0242ac1c0002row11_col11\" class=\"data row11 col11\" >1.00</td>\n",
              "                        <td id=\"T_33ba4bce_55a0_11ec_9d88_0242ac1c0002row11_col12\" class=\"data row11 col12\" >1.00</td>\n",
              "                        <td id=\"T_33ba4bce_55a0_11ec_9d88_0242ac1c0002row11_col13\" class=\"data row11 col13\" >-1.00</td>\n",
              "                        <td id=\"T_33ba4bce_55a0_11ec_9d88_0242ac1c0002row11_col14\" class=\"data row11 col14\" >nan</td>\n",
              "                        <td id=\"T_33ba4bce_55a0_11ec_9d88_0242ac1c0002row11_col15\" class=\"data row11 col15\" >nan</td>\n",
              "                        <td id=\"T_33ba4bce_55a0_11ec_9d88_0242ac1c0002row11_col16\" class=\"data row11 col16\" >nan</td>\n",
              "                        <td id=\"T_33ba4bce_55a0_11ec_9d88_0242ac1c0002row11_col17\" class=\"data row11 col17\" >nan</td>\n",
              "                        <td id=\"T_33ba4bce_55a0_11ec_9d88_0242ac1c0002row11_col18\" class=\"data row11 col18\" >nan</td>\n",
              "            </tr>\n",
              "            <tr>\n",
              "                        <th id=\"T_33ba4bce_55a0_11ec_9d88_0242ac1c0002level0_row12\" class=\"row_heading level0 row12\" >DiscoveryYear</th>\n",
              "                        <td id=\"T_33ba4bce_55a0_11ec_9d88_0242ac1c0002row12_col0\" class=\"data row12 col0\" >-0.15</td>\n",
              "                        <td id=\"T_33ba4bce_55a0_11ec_9d88_0242ac1c0002row12_col1\" class=\"data row12 col1\" >-0.03</td>\n",
              "                        <td id=\"T_33ba4bce_55a0_11ec_9d88_0242ac1c0002row12_col2\" class=\"data row12 col2\" >-0.14</td>\n",
              "                        <td id=\"T_33ba4bce_55a0_11ec_9d88_0242ac1c0002row12_col3\" class=\"data row12 col3\" >-0.19</td>\n",
              "                        <td id=\"T_33ba4bce_55a0_11ec_9d88_0242ac1c0002row12_col4\" class=\"data row12 col4\" >-0.04</td>\n",
              "                        <td id=\"T_33ba4bce_55a0_11ec_9d88_0242ac1c0002row12_col5\" class=\"data row12 col5\" >-0.05</td>\n",
              "                        <td id=\"T_33ba4bce_55a0_11ec_9d88_0242ac1c0002row12_col6\" class=\"data row12 col6\" >0.02</td>\n",
              "                        <td id=\"T_33ba4bce_55a0_11ec_9d88_0242ac1c0002row12_col7\" class=\"data row12 col7\" >-0.30</td>\n",
              "                        <td id=\"T_33ba4bce_55a0_11ec_9d88_0242ac1c0002row12_col8\" class=\"data row12 col8\" >-0.02</td>\n",
              "                        <td id=\"T_33ba4bce_55a0_11ec_9d88_0242ac1c0002row12_col9\" class=\"data row12 col9\" >0.34</td>\n",
              "                        <td id=\"T_33ba4bce_55a0_11ec_9d88_0242ac1c0002row12_col10\" class=\"data row12 col10\" >0.24</td>\n",
              "                        <td id=\"T_33ba4bce_55a0_11ec_9d88_0242ac1c0002row12_col11\" class=\"data row12 col11\" >1.00</td>\n",
              "                        <td id=\"T_33ba4bce_55a0_11ec_9d88_0242ac1c0002row12_col12\" class=\"data row12 col12\" >1.00</td>\n",
              "                        <td id=\"T_33ba4bce_55a0_11ec_9d88_0242ac1c0002row12_col13\" class=\"data row12 col13\" >0.18</td>\n",
              "                        <td id=\"T_33ba4bce_55a0_11ec_9d88_0242ac1c0002row12_col14\" class=\"data row12 col14\" >-0.08</td>\n",
              "                        <td id=\"T_33ba4bce_55a0_11ec_9d88_0242ac1c0002row12_col15\" class=\"data row12 col15\" >-0.07</td>\n",
              "                        <td id=\"T_33ba4bce_55a0_11ec_9d88_0242ac1c0002row12_col16\" class=\"data row12 col16\" >-0.07</td>\n",
              "                        <td id=\"T_33ba4bce_55a0_11ec_9d88_0242ac1c0002row12_col17\" class=\"data row12 col17\" >-0.01</td>\n",
              "                        <td id=\"T_33ba4bce_55a0_11ec_9d88_0242ac1c0002row12_col18\" class=\"data row12 col18\" >0.02</td>\n",
              "            </tr>\n",
              "            <tr>\n",
              "                        <th id=\"T_33ba4bce_55a0_11ec_9d88_0242ac1c0002level0_row13\" class=\"row_heading level0 row13\" >DistFromSunParsec</th>\n",
              "                        <td id=\"T_33ba4bce_55a0_11ec_9d88_0242ac1c0002row13_col0\" class=\"data row13 col0\" >-0.12</td>\n",
              "                        <td id=\"T_33ba4bce_55a0_11ec_9d88_0242ac1c0002row13_col1\" class=\"data row13 col1\" >-0.03</td>\n",
              "                        <td id=\"T_33ba4bce_55a0_11ec_9d88_0242ac1c0002row13_col2\" class=\"data row13 col2\" >-0.11</td>\n",
              "                        <td id=\"T_33ba4bce_55a0_11ec_9d88_0242ac1c0002row13_col3\" class=\"data row13 col3\" >-0.05</td>\n",
              "                        <td id=\"T_33ba4bce_55a0_11ec_9d88_0242ac1c0002row13_col4\" class=\"data row13 col4\" >-0.00</td>\n",
              "                        <td id=\"T_33ba4bce_55a0_11ec_9d88_0242ac1c0002row13_col5\" class=\"data row13 col5\" >-0.20</td>\n",
              "                        <td id=\"T_33ba4bce_55a0_11ec_9d88_0242ac1c0002row13_col6\" class=\"data row13 col6\" >-0.04</td>\n",
              "                        <td id=\"T_33ba4bce_55a0_11ec_9d88_0242ac1c0002row13_col7\" class=\"data row13 col7\" >0.02</td>\n",
              "                        <td id=\"T_33ba4bce_55a0_11ec_9d88_0242ac1c0002row13_col8\" class=\"data row13 col8\" >-0.29</td>\n",
              "                        <td id=\"T_33ba4bce_55a0_11ec_9d88_0242ac1c0002row13_col9\" class=\"data row13 col9\" >0.08</td>\n",
              "                        <td id=\"T_33ba4bce_55a0_11ec_9d88_0242ac1c0002row13_col10\" class=\"data row13 col10\" >0.16</td>\n",
              "                        <td id=\"T_33ba4bce_55a0_11ec_9d88_0242ac1c0002row13_col11\" class=\"data row13 col11\" >-1.00</td>\n",
              "                        <td id=\"T_33ba4bce_55a0_11ec_9d88_0242ac1c0002row13_col12\" class=\"data row13 col12\" >0.18</td>\n",
              "                        <td id=\"T_33ba4bce_55a0_11ec_9d88_0242ac1c0002row13_col13\" class=\"data row13 col13\" >1.00</td>\n",
              "                        <td id=\"T_33ba4bce_55a0_11ec_9d88_0242ac1c0002row13_col14\" class=\"data row13 col14\" >-0.13</td>\n",
              "                        <td id=\"T_33ba4bce_55a0_11ec_9d88_0242ac1c0002row13_col15\" class=\"data row13 col15\" >-0.11</td>\n",
              "                        <td id=\"T_33ba4bce_55a0_11ec_9d88_0242ac1c0002row13_col16\" class=\"data row13 col16\" >0.05</td>\n",
              "                        <td id=\"T_33ba4bce_55a0_11ec_9d88_0242ac1c0002row13_col17\" class=\"data row13 col17\" >0.17</td>\n",
              "                        <td id=\"T_33ba4bce_55a0_11ec_9d88_0242ac1c0002row13_col18\" class=\"data row13 col18\" >-0.04</td>\n",
              "            </tr>\n",
              "            <tr>\n",
              "                        <th id=\"T_33ba4bce_55a0_11ec_9d88_0242ac1c0002level0_row14\" class=\"row_heading level0 row14\" >HostStarMassSlrMass</th>\n",
              "                        <td id=\"T_33ba4bce_55a0_11ec_9d88_0242ac1c0002row14_col0\" class=\"data row14 col0\" >0.02</td>\n",
              "                        <td id=\"T_33ba4bce_55a0_11ec_9d88_0242ac1c0002row14_col1\" class=\"data row14 col1\" >0.13</td>\n",
              "                        <td id=\"T_33ba4bce_55a0_11ec_9d88_0242ac1c0002row14_col2\" class=\"data row14 col2\" >0.35</td>\n",
              "                        <td id=\"T_33ba4bce_55a0_11ec_9d88_0242ac1c0002row14_col3\" class=\"data row14 col3\" >0.09</td>\n",
              "                        <td id=\"T_33ba4bce_55a0_11ec_9d88_0242ac1c0002row14_col4\" class=\"data row14 col4\" >0.03</td>\n",
              "                        <td id=\"T_33ba4bce_55a0_11ec_9d88_0242ac1c0002row14_col5\" class=\"data row14 col5\" >0.02</td>\n",
              "                        <td id=\"T_33ba4bce_55a0_11ec_9d88_0242ac1c0002row14_col6\" class=\"data row14 col6\" >-0.05</td>\n",
              "                        <td id=\"T_33ba4bce_55a0_11ec_9d88_0242ac1c0002row14_col7\" class=\"data row14 col7\" >0.35</td>\n",
              "                        <td id=\"T_33ba4bce_55a0_11ec_9d88_0242ac1c0002row14_col8\" class=\"data row14 col8\" >-0.04</td>\n",
              "                        <td id=\"T_33ba4bce_55a0_11ec_9d88_0242ac1c0002row14_col9\" class=\"data row14 col9\" >0.01</td>\n",
              "                        <td id=\"T_33ba4bce_55a0_11ec_9d88_0242ac1c0002row14_col10\" class=\"data row14 col10\" >0.15</td>\n",
              "                        <td id=\"T_33ba4bce_55a0_11ec_9d88_0242ac1c0002row14_col11\" class=\"data row14 col11\" >nan</td>\n",
              "                        <td id=\"T_33ba4bce_55a0_11ec_9d88_0242ac1c0002row14_col12\" class=\"data row14 col12\" >-0.08</td>\n",
              "                        <td id=\"T_33ba4bce_55a0_11ec_9d88_0242ac1c0002row14_col13\" class=\"data row14 col13\" >-0.13</td>\n",
              "                        <td id=\"T_33ba4bce_55a0_11ec_9d88_0242ac1c0002row14_col14\" class=\"data row14 col14\" >1.00</td>\n",
              "                        <td id=\"T_33ba4bce_55a0_11ec_9d88_0242ac1c0002row14_col15\" class=\"data row14 col15\" >0.44</td>\n",
              "                        <td id=\"T_33ba4bce_55a0_11ec_9d88_0242ac1c0002row14_col16\" class=\"data row14 col16\" >0.18</td>\n",
              "                        <td id=\"T_33ba4bce_55a0_11ec_9d88_0242ac1c0002row14_col17\" class=\"data row14 col17\" >0.33</td>\n",
              "                        <td id=\"T_33ba4bce_55a0_11ec_9d88_0242ac1c0002row14_col18\" class=\"data row14 col18\" >-0.20</td>\n",
              "            </tr>\n",
              "            <tr>\n",
              "                        <th id=\"T_33ba4bce_55a0_11ec_9d88_0242ac1c0002level0_row15\" class=\"row_heading level0 row15\" >HostStarRadiusSlrRad</th>\n",
              "                        <td id=\"T_33ba4bce_55a0_11ec_9d88_0242ac1c0002row15_col0\" class=\"data row15 col0\" >0.05</td>\n",
              "                        <td id=\"T_33ba4bce_55a0_11ec_9d88_0242ac1c0002row15_col1\" class=\"data row15 col1\" >0.12</td>\n",
              "                        <td id=\"T_33ba4bce_55a0_11ec_9d88_0242ac1c0002row15_col2\" class=\"data row15 col2\" >0.34</td>\n",
              "                        <td id=\"T_33ba4bce_55a0_11ec_9d88_0242ac1c0002row15_col3\" class=\"data row15 col3\" >0.01</td>\n",
              "                        <td id=\"T_33ba4bce_55a0_11ec_9d88_0242ac1c0002row15_col4\" class=\"data row15 col4\" >0.00</td>\n",
              "                        <td id=\"T_33ba4bce_55a0_11ec_9d88_0242ac1c0002row15_col5\" class=\"data row15 col5\" >0.07</td>\n",
              "                        <td id=\"T_33ba4bce_55a0_11ec_9d88_0242ac1c0002row15_col6\" class=\"data row15 col6\" >0.04</td>\n",
              "                        <td id=\"T_33ba4bce_55a0_11ec_9d88_0242ac1c0002row15_col7\" class=\"data row15 col7\" >0.36</td>\n",
              "                        <td id=\"T_33ba4bce_55a0_11ec_9d88_0242ac1c0002row15_col8\" class=\"data row15 col8\" >0.10</td>\n",
              "                        <td id=\"T_33ba4bce_55a0_11ec_9d88_0242ac1c0002row15_col9\" class=\"data row15 col9\" >0.11</td>\n",
              "                        <td id=\"T_33ba4bce_55a0_11ec_9d88_0242ac1c0002row15_col10\" class=\"data row15 col10\" >-0.04</td>\n",
              "                        <td id=\"T_33ba4bce_55a0_11ec_9d88_0242ac1c0002row15_col11\" class=\"data row15 col11\" >nan</td>\n",
              "                        <td id=\"T_33ba4bce_55a0_11ec_9d88_0242ac1c0002row15_col12\" class=\"data row15 col12\" >-0.07</td>\n",
              "                        <td id=\"T_33ba4bce_55a0_11ec_9d88_0242ac1c0002row15_col13\" class=\"data row15 col13\" >-0.11</td>\n",
              "                        <td id=\"T_33ba4bce_55a0_11ec_9d88_0242ac1c0002row15_col14\" class=\"data row15 col14\" >0.44</td>\n",
              "                        <td id=\"T_33ba4bce_55a0_11ec_9d88_0242ac1c0002row15_col15\" class=\"data row15 col15\" >1.00</td>\n",
              "                        <td id=\"T_33ba4bce_55a0_11ec_9d88_0242ac1c0002row15_col16\" class=\"data row15 col16\" >-0.13</td>\n",
              "                        <td id=\"T_33ba4bce_55a0_11ec_9d88_0242ac1c0002row15_col17\" class=\"data row15 col17\" >-0.07</td>\n",
              "                        <td id=\"T_33ba4bce_55a0_11ec_9d88_0242ac1c0002row15_col18\" class=\"data row15 col18\" >-0.02</td>\n",
              "            </tr>\n",
              "            <tr>\n",
              "                        <th id=\"T_33ba4bce_55a0_11ec_9d88_0242ac1c0002level0_row16\" class=\"row_heading level0 row16\" >HostStarMetallicity</th>\n",
              "                        <td id=\"T_33ba4bce_55a0_11ec_9d88_0242ac1c0002row16_col0\" class=\"data row16 col0\" >0.04</td>\n",
              "                        <td id=\"T_33ba4bce_55a0_11ec_9d88_0242ac1c0002row16_col1\" class=\"data row16 col1\" >-0.01</td>\n",
              "                        <td id=\"T_33ba4bce_55a0_11ec_9d88_0242ac1c0002row16_col2\" class=\"data row16 col2\" >0.16</td>\n",
              "                        <td id=\"T_33ba4bce_55a0_11ec_9d88_0242ac1c0002row16_col3\" class=\"data row16 col3\" >-0.06</td>\n",
              "                        <td id=\"T_33ba4bce_55a0_11ec_9d88_0242ac1c0002row16_col4\" class=\"data row16 col4\" >-0.04</td>\n",
              "                        <td id=\"T_33ba4bce_55a0_11ec_9d88_0242ac1c0002row16_col5\" class=\"data row16 col5\" >0.05</td>\n",
              "                        <td id=\"T_33ba4bce_55a0_11ec_9d88_0242ac1c0002row16_col6\" class=\"data row16 col6\" >-0.05</td>\n",
              "                        <td id=\"T_33ba4bce_55a0_11ec_9d88_0242ac1c0002row16_col7\" class=\"data row16 col7\" >-0.03</td>\n",
              "                        <td id=\"T_33ba4bce_55a0_11ec_9d88_0242ac1c0002row16_col8\" class=\"data row16 col8\" >-0.01</td>\n",
              "                        <td id=\"T_33ba4bce_55a0_11ec_9d88_0242ac1c0002row16_col9\" class=\"data row16 col9\" >-0.00</td>\n",
              "                        <td id=\"T_33ba4bce_55a0_11ec_9d88_0242ac1c0002row16_col10\" class=\"data row16 col10\" >-0.02</td>\n",
              "                        <td id=\"T_33ba4bce_55a0_11ec_9d88_0242ac1c0002row16_col11\" class=\"data row16 col11\" >nan</td>\n",
              "                        <td id=\"T_33ba4bce_55a0_11ec_9d88_0242ac1c0002row16_col12\" class=\"data row16 col12\" >-0.07</td>\n",
              "                        <td id=\"T_33ba4bce_55a0_11ec_9d88_0242ac1c0002row16_col13\" class=\"data row16 col13\" >0.05</td>\n",
              "                        <td id=\"T_33ba4bce_55a0_11ec_9d88_0242ac1c0002row16_col14\" class=\"data row16 col14\" >0.18</td>\n",
              "                        <td id=\"T_33ba4bce_55a0_11ec_9d88_0242ac1c0002row16_col15\" class=\"data row16 col15\" >-0.13</td>\n",
              "                        <td id=\"T_33ba4bce_55a0_11ec_9d88_0242ac1c0002row16_col16\" class=\"data row16 col16\" >1.00</td>\n",
              "                        <td id=\"T_33ba4bce_55a0_11ec_9d88_0242ac1c0002row16_col17\" class=\"data row16 col17\" >0.13</td>\n",
              "                        <td id=\"T_33ba4bce_55a0_11ec_9d88_0242ac1c0002row16_col18\" class=\"data row16 col18\" >-0.11</td>\n",
              "            </tr>\n",
              "            <tr>\n",
              "                        <th id=\"T_33ba4bce_55a0_11ec_9d88_0242ac1c0002level0_row17\" class=\"row_heading level0 row17\" >HostStarTempK</th>\n",
              "                        <td id=\"T_33ba4bce_55a0_11ec_9d88_0242ac1c0002row17_col0\" class=\"data row17 col0\" >-0.02</td>\n",
              "                        <td id=\"T_33ba4bce_55a0_11ec_9d88_0242ac1c0002row17_col1\" class=\"data row17 col1\" >0.02</td>\n",
              "                        <td id=\"T_33ba4bce_55a0_11ec_9d88_0242ac1c0002row17_col2\" class=\"data row17 col2\" >0.17</td>\n",
              "                        <td id=\"T_33ba4bce_55a0_11ec_9d88_0242ac1c0002row17_col3\" class=\"data row17 col3\" >0.07</td>\n",
              "                        <td id=\"T_33ba4bce_55a0_11ec_9d88_0242ac1c0002row17_col4\" class=\"data row17 col4\" >0.00</td>\n",
              "                        <td id=\"T_33ba4bce_55a0_11ec_9d88_0242ac1c0002row17_col5\" class=\"data row17 col5\" >-0.01</td>\n",
              "                        <td id=\"T_33ba4bce_55a0_11ec_9d88_0242ac1c0002row17_col6\" class=\"data row17 col6\" >0.05</td>\n",
              "                        <td id=\"T_33ba4bce_55a0_11ec_9d88_0242ac1c0002row17_col7\" class=\"data row17 col7\" >0.33</td>\n",
              "                        <td id=\"T_33ba4bce_55a0_11ec_9d88_0242ac1c0002row17_col8\" class=\"data row17 col8\" >0.00</td>\n",
              "                        <td id=\"T_33ba4bce_55a0_11ec_9d88_0242ac1c0002row17_col9\" class=\"data row17 col9\" >0.02</td>\n",
              "                        <td id=\"T_33ba4bce_55a0_11ec_9d88_0242ac1c0002row17_col10\" class=\"data row17 col10\" >0.42</td>\n",
              "                        <td id=\"T_33ba4bce_55a0_11ec_9d88_0242ac1c0002row17_col11\" class=\"data row17 col11\" >nan</td>\n",
              "                        <td id=\"T_33ba4bce_55a0_11ec_9d88_0242ac1c0002row17_col12\" class=\"data row17 col12\" >-0.01</td>\n",
              "                        <td id=\"T_33ba4bce_55a0_11ec_9d88_0242ac1c0002row17_col13\" class=\"data row17 col13\" >0.17</td>\n",
              "                        <td id=\"T_33ba4bce_55a0_11ec_9d88_0242ac1c0002row17_col14\" class=\"data row17 col14\" >0.33</td>\n",
              "                        <td id=\"T_33ba4bce_55a0_11ec_9d88_0242ac1c0002row17_col15\" class=\"data row17 col15\" >-0.07</td>\n",
              "                        <td id=\"T_33ba4bce_55a0_11ec_9d88_0242ac1c0002row17_col16\" class=\"data row17 col16\" >0.13</td>\n",
              "                        <td id=\"T_33ba4bce_55a0_11ec_9d88_0242ac1c0002row17_col17\" class=\"data row17 col17\" >1.00</td>\n",
              "                        <td id=\"T_33ba4bce_55a0_11ec_9d88_0242ac1c0002row17_col18\" class=\"data row17 col18\" >-0.12</td>\n",
              "            </tr>\n",
              "            <tr>\n",
              "                        <th id=\"T_33ba4bce_55a0_11ec_9d88_0242ac1c0002level0_row18\" class=\"row_heading level0 row18\" >HostStarAgeGyr</th>\n",
              "                        <td id=\"T_33ba4bce_55a0_11ec_9d88_0242ac1c0002row18_col0\" class=\"data row18 col0\" >0.04</td>\n",
              "                        <td id=\"T_33ba4bce_55a0_11ec_9d88_0242ac1c0002row18_col1\" class=\"data row18 col1\" >0.28</td>\n",
              "                        <td id=\"T_33ba4bce_55a0_11ec_9d88_0242ac1c0002row18_col2\" class=\"data row18 col2\" >-0.16</td>\n",
              "                        <td id=\"T_33ba4bce_55a0_11ec_9d88_0242ac1c0002row18_col3\" class=\"data row18 col3\" >-0.09</td>\n",
              "                        <td id=\"T_33ba4bce_55a0_11ec_9d88_0242ac1c0002row18_col4\" class=\"data row18 col4\" >-0.06</td>\n",
              "                        <td id=\"T_33ba4bce_55a0_11ec_9d88_0242ac1c0002row18_col5\" class=\"data row18 col5\" >0.01</td>\n",
              "                        <td id=\"T_33ba4bce_55a0_11ec_9d88_0242ac1c0002row18_col6\" class=\"data row18 col6\" >-0.15</td>\n",
              "                        <td id=\"T_33ba4bce_55a0_11ec_9d88_0242ac1c0002row18_col7\" class=\"data row18 col7\" >-0.40</td>\n",
              "                        <td id=\"T_33ba4bce_55a0_11ec_9d88_0242ac1c0002row18_col8\" class=\"data row18 col8\" >-0.05</td>\n",
              "                        <td id=\"T_33ba4bce_55a0_11ec_9d88_0242ac1c0002row18_col9\" class=\"data row18 col9\" >0.08</td>\n",
              "                        <td id=\"T_33ba4bce_55a0_11ec_9d88_0242ac1c0002row18_col10\" class=\"data row18 col10\" >0.07</td>\n",
              "                        <td id=\"T_33ba4bce_55a0_11ec_9d88_0242ac1c0002row18_col11\" class=\"data row18 col11\" >nan</td>\n",
              "                        <td id=\"T_33ba4bce_55a0_11ec_9d88_0242ac1c0002row18_col12\" class=\"data row18 col12\" >0.02</td>\n",
              "                        <td id=\"T_33ba4bce_55a0_11ec_9d88_0242ac1c0002row18_col13\" class=\"data row18 col13\" >-0.04</td>\n",
              "                        <td id=\"T_33ba4bce_55a0_11ec_9d88_0242ac1c0002row18_col14\" class=\"data row18 col14\" >-0.20</td>\n",
              "                        <td id=\"T_33ba4bce_55a0_11ec_9d88_0242ac1c0002row18_col15\" class=\"data row18 col15\" >-0.02</td>\n",
              "                        <td id=\"T_33ba4bce_55a0_11ec_9d88_0242ac1c0002row18_col16\" class=\"data row18 col16\" >-0.11</td>\n",
              "                        <td id=\"T_33ba4bce_55a0_11ec_9d88_0242ac1c0002row18_col17\" class=\"data row18 col17\" >-0.12</td>\n",
              "                        <td id=\"T_33ba4bce_55a0_11ec_9d88_0242ac1c0002row18_col18\" class=\"data row18 col18\" >1.00</td>\n",
              "            </tr>\n",
              "    </tbody></table>"
            ],
            "text/plain": [
              "<pandas.io.formats.style.Styler at 0x7f4340767250>"
            ]
          },
          "metadata": {},
          "execution_count": 9
        }
      ]
    },
    {
      "cell_type": "markdown",
      "metadata": {
        "id": "cLLKEqOXtLph"
      },
      "source": [
        "Взглянем подробнее на массы планет\n"
      ]
    },
    {
      "cell_type": "code",
      "metadata": {
        "colab": {
          "base_uri": "https://localhost:8080/",
          "height": 282
        },
        "id": "kn5YQ0ljtK71",
        "outputId": "c00f148a-6df0-4847-af26-f39a043955fd"
      },
      "source": [
        "dataset.PlanetaryMassJpt.hist()\n"
      ],
      "execution_count": 10,
      "outputs": [
        {
          "output_type": "execute_result",
          "data": {
            "text/plain": [
              "<matplotlib.axes._subplots.AxesSubplot at 0x7f43401302d0>"
            ]
          },
          "metadata": {},
          "execution_count": 10
        },
        {
          "output_type": "display_data",
          "data": {
            "image/png": "[encoded data removed]",
            "text/plain": [
              "<Figure size 432x288 with 1 Axes>"
            ]
          },
          "metadata": {
            "needs_background": "light"
          }
        }
      ]
    },
    {
      "cell_type": "code",
      "metadata": {
        "colab": {
          "base_uri": "https://localhost:8080/",
          "height": 819
        },
        "id": "KOEEDtU_3eAE",
        "outputId": "af8eee6a-fc31-4bb1-9507-7d5ead94c276"
      },
      "source": [
        "fig, axes = plt.subplots(2, 2,figsize=(50,30))\n",
        "axes[0,0].hist(dataset[\"PlanetaryMassJpt\"],bins=100)\n",
        "axes[0,1].hist(dataset[\"RadiusJpt\"],bins=100)\n",
        "axes[1,0].hist(dataset[\"PeriodDays\"],bins=100)\n",
        "axes[1,1].hist(dataset[\"SemiMajorAxisAU\"],bins=100)\n",
        "plt.show()"
      ],
      "execution_count": 11,
      "outputs": [
        {
          "output_type": "display_data",
          "data": {
            "image/png": "[encoded data removed]",
            "text/plain": [
              "<Figure size 3600x2160 with 4 Axes>"
            ]
          },
          "metadata": {
            "needs_background": "light"
          }
        }
      ]
    },
    {
      "cell_type": "markdown",
      "metadata": {
        "id": "mFms1vmLas9z"
      },
      "source": [
        "Планеты солнечной системы"
      ]
    },
    {
      "cell_type": "code",
      "metadata": {
        "colab": {
          "base_uri": "https://localhost:8080/",
          "height": 352
        },
        "id": "lKCZehBUauz7",
        "outputId": "95980b81-ac63-49cf-a846-28d2f299f53b"
      },
      "source": [
        "solar_system = dataset[dataset[\"ListsPlanetIsOn\"]==\"Solar System\"]\n",
        "solar_system"
      ],
      "execution_count": 13,
      "outputs": [
        {
          "output_type": "execute_result",
          "data": {
            "text/html": [
              "<div>\n",
              "<style scoped>\n",
              "    .dataframe tbody tr th:only-of-type {\n",
              "        vertical-align: middle;\n",
              "    }\n",
              "\n",
              "    .dataframe tbody tr th {\n",
              "        vertical-align: top;\n",
              "    }\n",
              "\n",
              "    .dataframe thead th {\n",
              "        text-align: right;\n",
              "    }\n",
              "</style>\n",
              "<table border=\"1\" class=\"dataframe\">\n",
              "  <thead>\n",
              "    <tr style=\"text-align: right;\">\n",
              "      <th></th>\n",
              "      <th>PlanetIdentifier</th>\n",
              "      <th>TypeFlag</th>\n",
              "      <th>PlanetaryMassJpt</th>\n",
              "      <th>RadiusJpt</th>\n",
              "      <th>PeriodDays</th>\n",
              "      <th>SemiMajorAxisAU</th>\n",
              "      <th>Eccentricity</th>\n",
              "      <th>PeriastronDeg</th>\n",
              "      <th>LongitudeDeg</th>\n",
              "      <th>AscendingNodeDeg</th>\n",
              "      <th>InclinationDeg</th>\n",
              "      <th>SurfaceTempK</th>\n",
              "      <th>AgeGyr</th>\n",
              "      <th>DiscoveryMethod</th>\n",
              "      <th>DiscoveryYear</th>\n",
              "      <th>LastUpdated</th>\n",
              "      <th>RightAscension</th>\n",
              "      <th>Declination</th>\n",
              "      <th>DistFromSunParsec</th>\n",
              "      <th>HostStarMassSlrMass</th>\n",
              "      <th>HostStarRadiusSlrRad</th>\n",
              "      <th>HostStarMetallicity</th>\n",
              "      <th>HostStarTempK</th>\n",
              "      <th>HostStarAgeGyr</th>\n",
              "      <th>ListsPlanetIsOn</th>\n",
              "    </tr>\n",
              "  </thead>\n",
              "  <tbody>\n",
              "    <tr>\n",
              "      <th>408</th>\n",
              "      <td>Mercury</td>\n",
              "      <td>0</td>\n",
              "      <td>0.000174</td>\n",
              "      <td>0.034902</td>\n",
              "      <td>87.9700</td>\n",
              "      <td>0.387098</td>\n",
              "      <td>0.205637</td>\n",
              "      <td>77.457719</td>\n",
              "      <td>252.251667</td>\n",
              "      <td>48.339618</td>\n",
              "      <td>7.005594</td>\n",
              "      <td>NaN</td>\n",
              "      <td>NaN</td>\n",
              "      <td>NaN</td>\n",
              "      <td>NaN</td>\n",
              "      <td>12/01/01</td>\n",
              "      <td>NaN</td>\n",
              "      <td>NaN</td>\n",
              "      <td>NaN</td>\n",
              "      <td>1.0</td>\n",
              "      <td>1.0</td>\n",
              "      <td>1.000000e-08</td>\n",
              "      <td>5778.0</td>\n",
              "      <td>4.57</td>\n",
              "      <td>Solar System</td>\n",
              "    </tr>\n",
              "    <tr>\n",
              "      <th>409</th>\n",
              "      <td>Venus</td>\n",
              "      <td>0</td>\n",
              "      <td>0.002564</td>\n",
              "      <td>0.086565</td>\n",
              "      <td>224.7000</td>\n",
              "      <td>0.723321</td>\n",
              "      <td>0.006764</td>\n",
              "      <td>131.767557</td>\n",
              "      <td>181.979708</td>\n",
              "      <td>76.672615</td>\n",
              "      <td>3.397775</td>\n",
              "      <td>NaN</td>\n",
              "      <td>NaN</td>\n",
              "      <td>NaN</td>\n",
              "      <td>NaN</td>\n",
              "      <td>12/01/01</td>\n",
              "      <td>NaN</td>\n",
              "      <td>NaN</td>\n",
              "      <td>NaN</td>\n",
              "      <td>1.0</td>\n",
              "      <td>1.0</td>\n",
              "      <td>1.000000e-08</td>\n",
              "      <td>5778.0</td>\n",
              "      <td>4.57</td>\n",
              "      <td>Solar System</td>\n",
              "    </tr>\n",
              "    <tr>\n",
              "      <th>410</th>\n",
              "      <td>Earth</td>\n",
              "      <td>0</td>\n",
              "      <td>0.003146</td>\n",
              "      <td>0.091130</td>\n",
              "      <td>365.2422</td>\n",
              "      <td>1.000000</td>\n",
              "      <td>0.016732</td>\n",
              "      <td>102.930059</td>\n",
              "      <td>100.466916</td>\n",
              "      <td>-5.112604</td>\n",
              "      <td>-0.000543</td>\n",
              "      <td>NaN</td>\n",
              "      <td>NaN</td>\n",
              "      <td>NaN</td>\n",
              "      <td>NaN</td>\n",
              "      <td>12/01/01</td>\n",
              "      <td>NaN</td>\n",
              "      <td>NaN</td>\n",
              "      <td>NaN</td>\n",
              "      <td>1.0</td>\n",
              "      <td>1.0</td>\n",
              "      <td>1.000000e-08</td>\n",
              "      <td>5778.0</td>\n",
              "      <td>4.57</td>\n",
              "      <td>Solar System</td>\n",
              "    </tr>\n",
              "    <tr>\n",
              "      <th>411</th>\n",
              "      <td>Mars</td>\n",
              "      <td>0</td>\n",
              "      <td>0.000338</td>\n",
              "      <td>0.048489</td>\n",
              "      <td>686.9800</td>\n",
              "      <td>1.523712</td>\n",
              "      <td>0.093365</td>\n",
              "      <td>-23.917448</td>\n",
              "      <td>-4.568132</td>\n",
              "      <td>49.713210</td>\n",
              "      <td>1.851819</td>\n",
              "      <td>NaN</td>\n",
              "      <td>NaN</td>\n",
              "      <td>NaN</td>\n",
              "      <td>NaN</td>\n",
              "      <td>12/01/01</td>\n",
              "      <td>NaN</td>\n",
              "      <td>NaN</td>\n",
              "      <td>NaN</td>\n",
              "      <td>1.0</td>\n",
              "      <td>1.0</td>\n",
              "      <td>1.000000e-08</td>\n",
              "      <td>5778.0</td>\n",
              "      <td>4.57</td>\n",
              "      <td>Solar System</td>\n",
              "    </tr>\n",
              "    <tr>\n",
              "      <th>412</th>\n",
              "      <td>Jupiter</td>\n",
              "      <td>0</td>\n",
              "      <td>1.000000</td>\n",
              "      <td>1.000000</td>\n",
              "      <td>4332.8200</td>\n",
              "      <td>5.202480</td>\n",
              "      <td>0.048536</td>\n",
              "      <td>14.274952</td>\n",
              "      <td>34.334792</td>\n",
              "      <td>100.292827</td>\n",
              "      <td>1.298614</td>\n",
              "      <td>NaN</td>\n",
              "      <td>NaN</td>\n",
              "      <td>NaN</td>\n",
              "      <td>NaN</td>\n",
              "      <td>12/01/01</td>\n",
              "      <td>NaN</td>\n",
              "      <td>NaN</td>\n",
              "      <td>NaN</td>\n",
              "      <td>1.0</td>\n",
              "      <td>1.0</td>\n",
              "      <td>1.000000e-08</td>\n",
              "      <td>5778.0</td>\n",
              "      <td>4.57</td>\n",
              "      <td>Solar System</td>\n",
              "    </tr>\n",
              "    <tr>\n",
              "      <th>413</th>\n",
              "      <td>Saturn</td>\n",
              "      <td>0</td>\n",
              "      <td>0.299000</td>\n",
              "      <td>0.832944</td>\n",
              "      <td>10755.6700</td>\n",
              "      <td>9.541499</td>\n",
              "      <td>0.055508</td>\n",
              "      <td>92.861361</td>\n",
              "      <td>50.075713</td>\n",
              "      <td>113.639987</td>\n",
              "      <td>2.494241</td>\n",
              "      <td>NaN</td>\n",
              "      <td>NaN</td>\n",
              "      <td>NaN</td>\n",
              "      <td>NaN</td>\n",
              "      <td>12/01/01</td>\n",
              "      <td>NaN</td>\n",
              "      <td>NaN</td>\n",
              "      <td>NaN</td>\n",
              "      <td>1.0</td>\n",
              "      <td>1.0</td>\n",
              "      <td>1.000000e-08</td>\n",
              "      <td>5778.0</td>\n",
              "      <td>4.57</td>\n",
              "      <td>Solar System</td>\n",
              "    </tr>\n",
              "    <tr>\n",
              "      <th>414</th>\n",
              "      <td>Uranus</td>\n",
              "      <td>0</td>\n",
              "      <td>0.045700</td>\n",
              "      <td>0.362775</td>\n",
              "      <td>30687.1530</td>\n",
              "      <td>19.187979</td>\n",
              "      <td>0.046857</td>\n",
              "      <td>172.434044</td>\n",
              "      <td>314.202766</td>\n",
              "      <td>73.962502</td>\n",
              "      <td>0.772981</td>\n",
              "      <td>NaN</td>\n",
              "      <td>NaN</td>\n",
              "      <td>NaN</td>\n",
              "      <td>1781.0</td>\n",
              "      <td>12/01/01</td>\n",
              "      <td>NaN</td>\n",
              "      <td>NaN</td>\n",
              "      <td>NaN</td>\n",
              "      <td>1.0</td>\n",
              "      <td>1.0</td>\n",
              "      <td>1.000000e-08</td>\n",
              "      <td>5778.0</td>\n",
              "      <td>4.57</td>\n",
              "      <td>Solar System</td>\n",
              "    </tr>\n",
              "    <tr>\n",
              "      <th>415</th>\n",
              "      <td>Neptune</td>\n",
              "      <td>0</td>\n",
              "      <td>0.053953</td>\n",
              "      <td>0.352219</td>\n",
              "      <td>60190.0300</td>\n",
              "      <td>30.069528</td>\n",
              "      <td>0.008954</td>\n",
              "      <td>46.681587</td>\n",
              "      <td>304.222893</td>\n",
              "      <td>131.786359</td>\n",
              "      <td>1.770055</td>\n",
              "      <td>NaN</td>\n",
              "      <td>NaN</td>\n",
              "      <td>NaN</td>\n",
              "      <td>1846.0</td>\n",
              "      <td>12/01/01</td>\n",
              "      <td>NaN</td>\n",
              "      <td>NaN</td>\n",
              "      <td>NaN</td>\n",
              "      <td>1.0</td>\n",
              "      <td>1.0</td>\n",
              "      <td>1.000000e-08</td>\n",
              "      <td>5778.0</td>\n",
              "      <td>4.57</td>\n",
              "      <td>Solar System</td>\n",
              "    </tr>\n",
              "    <tr>\n",
              "      <th>416</th>\n",
              "      <td>Pluto</td>\n",
              "      <td>0</td>\n",
              "      <td>0.000008</td>\n",
              "      <td>0.016438</td>\n",
              "      <td>90553.0200</td>\n",
              "      <td>39.486860</td>\n",
              "      <td>0.248852</td>\n",
              "      <td>224.097026</td>\n",
              "      <td>238.965350</td>\n",
              "      <td>110.301680</td>\n",
              "      <td>17.141043</td>\n",
              "      <td>NaN</td>\n",
              "      <td>NaN</td>\n",
              "      <td>NaN</td>\n",
              "      <td>1930.0</td>\n",
              "      <td>12/01/01</td>\n",
              "      <td>NaN</td>\n",
              "      <td>NaN</td>\n",
              "      <td>NaN</td>\n",
              "      <td>1.0</td>\n",
              "      <td>1.0</td>\n",
              "      <td>1.000000e-08</td>\n",
              "      <td>5778.0</td>\n",
              "      <td>4.57</td>\n",
              "      <td>Solar System</td>\n",
              "    </tr>\n",
              "  </tbody>\n",
              "</table>\n",
              "</div>"
            ],
            "text/plain": [
              "    PlanetIdentifier  TypeFlag  ...  HostStarAgeGyr  ListsPlanetIsOn\n",
              "408          Mercury         0  ...            4.57     Solar System\n",
              "409            Venus         0  ...            4.57     Solar System\n",
              "410            Earth         0  ...            4.57     Solar System\n",
              "411             Mars         0  ...            4.57     Solar System\n",
              "412          Jupiter         0  ...            4.57     Solar System\n",
              "413           Saturn         0  ...            4.57     Solar System\n",
              "414           Uranus         0  ...            4.57     Solar System\n",
              "415          Neptune         0  ...            4.57     Solar System\n",
              "416            Pluto         0  ...            4.57     Solar System\n",
              "\n",
              "[9 rows x 25 columns]"
            ]
          },
          "metadata": {},
          "execution_count": 13
        }
      ]
    },
    {
      "cell_type": "markdown",
      "metadata": {
        "id": "BsqH8yPca6JM"
      },
      "source": [
        "Построим гистограммы для планет солнечной системы"
      ]
    },
    {
      "cell_type": "code",
      "metadata": {
        "colab": {
          "base_uri": "https://localhost:8080/",
          "height": 827
        },
        "id": "4qH4SqZ5a_E5",
        "outputId": "5908e4f3-af3d-4e1d-cb26-ee0b769418d1"
      },
      "source": [
        "fig, axes = plt.subplots(3, 3,figsize=(50,30))\n",
        "axes[0,0].hist(dataset[\"PlanetaryMassJpt\"],bins=100)\n",
        "axes[0,0].set_title(\"PlanetaryMassJpt\")\n",
        "\n",
        "axes[0,1].hist(dataset[\"HostStarMetallicity\"],bins=100)\n",
        "axes[0,1].set_title(\"HostStarMetallicity\")\n",
        "\n",
        "axes[0,2].hist(dataset[\"RadiusJpt\"],bins=100)\n",
        "axes[0,2].set_title(\"RadiusJpt\")\n",
        "\n",
        "axes[1,0].hist(dataset[\"PeriodDays\"],bins=100)\n",
        "axes[1,0].set_title(\"PeriodDays\")\n",
        "\n",
        "axes[1,1].hist(dataset[\"SemiMajorAxisAU\"],bins=100)\n",
        "axes[1,1].set_title(\"SemiMajorAxisAU\")\n",
        "\n",
        "axes[1,2].hist(dataset[\"PeriodDays\"],bins=100)\n",
        "axes[1,2].set_title(\"PeriodDays\")\n",
        "\n",
        "axes[2,0].hist(dataset[\"HostStarMassSlrMass\"],bins=100)\n",
        "axes[2,0].set_title(\"HostStarMassSlrMass\")\n",
        "\n",
        "axes[2,1].hist(dataset[\"HostStarRadiusSlrRad\"],bins=100)\n",
        "axes[2,1].set_title(\"HostStarRadiusSlrRad\")\n",
        "\n",
        "axes[2,2].hist(dataset[\"HostStarTempK\"],bins=100)\n",
        "axes[2,2].set_title(\"HostStarTempK\")\n",
        "\n",
        "plt.show()"
      ],
      "execution_count": 14,
      "outputs": [
        {
          "output_type": "display_data",
          "data": {
            "image/png": "[encoded data removed]",
            "text/plain": [
              "<Figure size 3600x2160 with 9 Axes>"
            ]
          },
          "metadata": {
            "needs_background": "light"
          }
        }
      ]
    },
    {
      "cell_type": "markdown",
      "metadata": {
        "id": "faEcvk-WS9dE"
      },
      "source": [
        "Избавимся от пустых значений"
      ]
    },
    {
      "cell_type": "code",
      "metadata": {
        "colab": {
          "base_uri": "https://localhost:8080/",
          "height": 282
        },
        "id": "Qca5jZzATBLx",
        "outputId": "e19318b3-cce1-49b0-ba7a-3ec3b1b321bf"
      },
      "source": [
        "dataset=dataset.dropna(subset=['PlanetaryMassJpt', 'RadiusJpt']) \n",
        "plt.scatter(dataset[\"RadiusJpt\"],dataset[\"PlanetaryMassJpt\"])"
      ],
      "execution_count": 15,
      "outputs": [
        {
          "output_type": "execute_result",
          "data": {
            "text/plain": [
              "<matplotlib.collections.PathCollection at 0x7f433eb399d0>"
            ]
          },
          "metadata": {},
          "execution_count": 15
        },
        {
          "output_type": "display_data",
          "data": {
            "image/png": "[encoded data removed]",
            "text/plain": [
              "<Figure size 432x288 with 1 Axes>"
            ]
          },
          "metadata": {
            "needs_background": "light"
          }
        }
      ]
    },
    {
      "cell_type": "markdown",
      "metadata": {
        "id": "IibWA1WjSg1j"
      },
      "source": [
        "Логарифмическая трансформация\n",
        "Берем логарифмические значения переменных и проводим через них прямую линию\n",
        "\n",
        "Наклон линии - степень многочлена"
      ]
    },
    {
      "cell_type": "code",
      "metadata": {
        "colab": {
          "base_uri": "https://localhost:8080/",
          "height": 284
        },
        "id": "uojqmRvMSPez",
        "outputId": "b6c26778-c180-46e7-b6fd-76fc47b6d534"
      },
      "source": [
        "dataset[\"PlanetaryMassJptlog\"]=dataset[\"PlanetaryMassJpt\"].apply(np.log)\n",
        "dataset[\"RadiusJptlog\"]=dataset[\"RadiusJpt\"].apply(np.log)\n",
        "\n",
        "plt.scatter(dataset[\"RadiusJptlog\"],dataset[\"PlanetaryMassJptlog\"])"
      ],
      "execution_count": 16,
      "outputs": [
        {
          "output_type": "execute_result",
          "data": {
            "text/plain": [
              "<matplotlib.collections.PathCollection at 0x7f433ee157d0>"
            ]
          },
          "metadata": {},
          "execution_count": 16
        },
        {
          "output_type": "display_data",
          "data": {
            "image/png": "[encoded data removed]",
            "text/plain": [
              "<Figure size 432x288 with 1 Axes>"
            ]
          },
          "metadata": {
            "needs_background": "light"
          }
        }
      ]
    },
    {
      "cell_type": "markdown",
      "metadata": {
        "id": "c9rEkbZM_XBy"
      },
      "source": [
        "Применим популярный метод кластеризации \"k средних\", \"k-means\"\n",
        "\n",
        "Разделим планеты на два кластера по массе и радиусу. В итоге они окажутся либо планетами земного типа, либо газовыми гигантами\n",
        "\n",
        "К газовым гигантам относятся Юпитер, Сатурн, Уран и Нептун\n",
        "\n",
        "К планетам земного типа - Меркурий, Венера, Земля и Марс\n"
      ]
    },
    {
      "cell_type": "code",
      "metadata": {
        "id": "hLT5djuS5Ymp"
      },
      "source": [
        "from sklearn.cluster import KMeans\n",
        "\n",
        "km = KMeans(\n",
        "    n_clusters=2, init='random',\n",
        "    n_init=10, max_iter=300, \n",
        "    tol=1e-04, random_state=0\n",
        ")"
      ],
      "execution_count": 17,
      "outputs": []
    },
    {
      "cell_type": "code",
      "metadata": {
        "colab": {
          "base_uri": "https://localhost:8080/"
        },
        "id": "sy5p-Z-aR_5P",
        "outputId": "1155c53c-0bbb-4584-b006-e01599ee5b97"
      },
      "source": [
        "x_train=np.array(dataset[[\"RadiusJptlog\",\"PlanetaryMassJptlog\"]])\n",
        "x_train"
      ],
      "execution_count": 18,
      "outputs": [
        {
          "output_type": "execute_result",
          "data": {
            "text/plain": [
              "array([[-2.91877123, -6.57128304],\n",
              "       [-0.17435339, -1.38629436],\n",
              "       [-0.19845094, -1.77195684],\n",
              "       ...,\n",
              "       [ 0.02371653,  1.40192162],\n",
              "       [ 0.73476886, -1.07880966],\n",
              "       [ 0.17981843,  1.20237152]])"
            ]
          },
          "metadata": {},
          "execution_count": 18
        }
      ]
    },
    {
      "cell_type": "code",
      "metadata": {
        "id": "vvGwTlwHUKL4"
      },
      "source": [
        "km.fit(x_train)\n",
        "y_mean = km.fit_predict(x_train)"
      ],
      "execution_count": 19,
      "outputs": []
    },
    {
      "cell_type": "code",
      "metadata": {
        "colab": {
          "base_uri": "https://localhost:8080/",
          "height": 295
        },
        "id": "2ZW4ezE0R4zM",
        "outputId": "ad3e4850-c3c6-4d96-cd78-b0f471064c7f"
      },
      "source": [
        "plt.scatter(\n",
        "    x_train[y_mean == 0, 0], x_train[y_mean == 0, 1],\n",
        "    s=100, c='lightblue',\n",
        "    edgecolor='black',\n",
        "    label='Газовые гиганты'\n",
        ")\n",
        "\n",
        "plt.scatter(\n",
        "    x_train[y_mean == 1, 0], x_train[y_mean == 1, 1],\n",
        "    s=100, c='green',\n",
        "    edgecolor='black',\n",
        "    label='Земной тип'\n",
        ")\n",
        "plt.title('Классификатор планет по размеру')\n",
        "plt.xlabel('радиус')\n",
        "plt.ylabel('масса')\n",
        "\n",
        "plt.legend(scatterpoints=1)\n",
        "plt.show()"
      ],
      "execution_count": 22,
      "outputs": [
        {
          "output_type": "display_data",
          "data": {
            "image/png": "[encoded data removed]",
            "text/plain": [
              "<Figure size 432x288 with 1 Axes>"
            ]
          },
          "metadata": {
            "needs_background": "light"
          }
        }
      ]
    },
    {
      "cell_type": "markdown",
      "metadata": {
        "id": "q1F8xS9pVErf"
      },
      "source": [
        "Диаграмма температур планет"
      ]
    },
    {
      "cell_type": "code",
      "metadata": {
        "colab": {
          "base_uri": "https://localhost:8080/",
          "height": 282
        },
        "id": "tn-rsCDOXP5X",
        "outputId": "5e58c7af-754d-4607-bf84-35e829eeb792"
      },
      "source": [
        "dataset.SurfaceTempK.hist()\n",
        " "
      ],
      "execution_count": 23,
      "outputs": [
        {
          "output_type": "execute_result",
          "data": {
            "text/plain": [
              "<matplotlib.axes._subplots.AxesSubplot at 0x7f433ed4b790>"
            ]
          },
          "metadata": {},
          "execution_count": 23
        },
        {
          "output_type": "display_data",
          "data": {
            "image/png": "[encoded data removed]",
            "text/plain": [
              "<Figure size 432x288 with 1 Axes>"
            ]
          },
          "metadata": {
            "needs_background": "light"
          }
        }
      ]
    },
    {
      "cell_type": "markdown",
      "metadata": {
        "id": "BJjkd8YNaUDq"
      },
      "source": [
        "Средняя температура всех экзопланет\n",
        "\n"
      ]
    },
    {
      "cell_type": "code",
      "metadata": {
        "id": "r8L-ZWydX1yl",
        "colab": {
          "base_uri": "https://localhost:8080/"
        },
        "outputId": "0977eef9-4370-430f-e7f2-24f66d08e285"
      },
      "source": [
        " dataset.SurfaceTempK.mean()\n"
      ],
      "execution_count": 24,
      "outputs": [
        {
          "output_type": "execute_result",
          "data": {
            "text/plain": [
              "1354.318481848184"
            ]
          },
          "metadata": {},
          "execution_count": 24
        }
      ]
    },
    {
      "cell_type": "markdown",
      "metadata": {
        "id": "nUSexGB7fG3n"
      },
      "source": [
        ""
      ]
    },
    {
      "cell_type": "code",
      "metadata": {
        "colab": {
          "base_uri": "https://localhost:8080/",
          "height": 312
        },
        "id": "m3QUdfIieDyA",
        "outputId": "25846b39-d626-46fb-959f-fdf45b426a4d"
      },
      "source": [
        "dist = dataset['DistFromSunParsec'].groupby([dataset['HostStarTempK']]).mean()\n",
        "distY = dist\n",
        "distX = dist.index\n",
        "\n",
        "plt.grid()\n",
        "plt.xlabel(\"DistFromSunParsec\")\n",
        "plt.ylabel(\"HostStarTempK\")\n",
        "plt.title(\"Среднее расстояние планет до звезды в зависимости от температуры звезды\")\n",
        "\n",
        "plt.scatter(distX, distY, 10, color=\"blue\")\n",
        "plt.plot(np.unique(distX), np.poly1d(np.polyfit(distX, distY, 1))(np.unique(distX)))"
      ],
      "execution_count": 25,
      "outputs": [
        {
          "output_type": "execute_result",
          "data": {
            "text/plain": [
              "[<matplotlib.lines.Line2D at 0x7f433ec55050>]"
            ]
          },
          "metadata": {},
          "execution_count": 25
        },
        {
          "output_type": "display_data",
          "data": {
            "image/png": "[encoded data removed]",
            "text/plain": [
              "<Figure size 432x288 with 1 Axes>"
            ]
          },
          "metadata": {
            "needs_background": "light"
          }
        }
      ]
    },
    {
      "cell_type": "markdown",
      "metadata": {
        "id": "2ZFzUsKRdy53"
      },
      "source": [
        "Найдем потенциально пригодные для жизни планеты\n",
        "\n",
        "[Воспользуемся информацией, которую предоставляет сайт НАСА](https://exoplanets.nasa.gov/search-for-life/habitable-zone/)"
      ]
    },
    {
      "cell_type": "markdown",
      "metadata": {
        "id": "_pihfzbPn6Fq"
      },
      "source": [
        "Посмотрим на массу, радиус, металличность и температуру звезды"
      ]
    },
    {
      "cell_type": "code",
      "metadata": {
        "id": "azo6MC9KpAhx"
      },
      "source": [
        "features = ['HostStarMassSlrMass','HostStarMetallicity','HostStarTempK', 'HostStarRadiusSlrRad']\n",
        "stars_scatter = dataset[features].dropna()\n",
        "\n",
        "x = stars_scatter['HostStarMassSlrMass']\n",
        "y = stars_scatter['HostStarMetallicity']\n",
        "\n",
        "area = np.pi * stars_scatter['HostStarRadiusSlrRad']**3\n",
        "\n",
        "colors = stars_scatter['HostStarTempK']"
      ],
      "execution_count": 124,
      "outputs": []
    },
    {
      "cell_type": "code",
      "metadata": {
        "colab": {
          "base_uri": "https://localhost:8080/"
        },
        "id": "lGtv2NfcpNyH",
        "outputId": "1169acdf-544c-4902-f1fd-6ced63672d7a"
      },
      "source": [
        "area"
      ],
      "execution_count": 125,
      "outputs": [
        {
          "output_type": "execute_result",
          "data": {
            "text/plain": [
              "2        0.286278\n",
              "5        3.333883\n",
              "6        3.333883\n",
              "7        3.333883\n",
              "15      32.547629\n",
              "          ...    \n",
              "3557     1.434241\n",
              "3572    12.088067\n",
              "3574     4.238739\n",
              "3576    11.608560\n",
              "3577    11.362529\n",
              "Name: HostStarRadiusSlrRad, Length: 428, dtype: float64"
            ]
          },
          "metadata": {},
          "execution_count": 125
        }
      ]
    },
    {
      "cell_type": "markdown",
      "metadata": {
        "id": "y6PiJVj-wZaW"
      },
      "source": [
        "Coolbar , показывающий температуру фотосферы"
      ]
    },
    {
      "cell_type": "code",
      "metadata": {
        "id": "kIwQkeLtuxTN"
      },
      "source": [
        "normalize = clr.Normalize(vmin=colors.min(), vmax=colors.max())\n",
        "colormap = cm.Dark2\n",
        "\n",
        "scalarmappaple = cm.ScalarMappable(norm=normalize, cmap=colormap)\n",
        "scalarmappaple.set_array(colors)\n"
      ],
      "execution_count": 126,
      "outputs": []
    },
    {
      "cell_type": "code",
      "metadata": {
        "colab": {
          "base_uri": "https://localhost:8080/",
          "height": 373
        },
        "id": "gQqOCKVdd1qK",
        "outputId": "45f3bc35-9a55-4611-bc9a-8400ab018f8a"
      },
      "source": [
        "fig = plt.figure()\n",
        "fig.suptitle('Звезды с планетами', fontsize=14, fontweight='bold')\n",
        "ax.set_xlabel('Солнечная масса')\n",
        "ax.set_ylabel('Металличность')\n",
        "fig.set_size_inches(15, 5)\n",
        "\n",
        "clb = plt.colorbar(scalarmappaple)\n",
        "clb.set_label('Фотосфера, K')\n",
        "\n",
        "\n",
        "plt.scatter(x, y, s=area, c = normalize(colors), cmap = colormap, alpha=0.3)\n",
        "plt.annotate('Солнце', xy = (1,0), \n",
        "             xytext = (-40, 40),\n",
        "             textcoords = 'offset points',  \n",
        "             bbox = dict(boxstyle = 'round,pad=0.5', fc = 'red', alpha = 0.1),\n",
        "             arrowprops = dict(arrowstyle = '->')\n",
        "             )"
      ],
      "execution_count": 127,
      "outputs": [
        {
          "output_type": "execute_result",
          "data": {
            "text/plain": [
              "Text(-40, 40, 'Солнце')"
            ]
          },
          "metadata": {},
          "execution_count": 127
        },
        {
          "output_type": "display_data",
          "data": {
            "image/png": "[encoded data removed]",
            "text/plain": [
              "<Figure size 1080x360 with 2 Axes>"
            ]
          },
          "metadata": {
            "needs_background": "light"
          }
        }
      ]
    },
    {
      "cell_type": "markdown",
      "metadata": {
        "id": "1Oa50rL9-1Co"
      },
      "source": [
        "Найдем звезды, похожие на солнце"
      ]
    },
    {
      "cell_type": "code",
      "metadata": {
        "colab": {
          "base_uri": "https://localhost:8080/",
          "height": 300
        },
        "id": "ZBXZi1Dh-1OH",
        "outputId": "665d39ac-c005-4916-d0aa-6f120d349a4d"
      },
      "source": [
        "sun_like_stars = dataset[(dataset.HostStarMassSlrMass > 0.5)&(dataset.HostStarMassSlrMass < 1.5)\n",
        "&(dataset.HostStarRadiusSlrRad > 0.5)&(dataset.HostStarRadiusSlrRad < 1.5)]\n",
        "\n",
        "star_features = ['HostStarMassSlrMass','HostStarRadiusSlrRad','HostStarMetallicity','HostStarTempK','HostStarAgeGyr']\n",
        "sun_like_stars[star_features].describe()"
      ],
      "execution_count": 128,
      "outputs": [
        {
          "output_type": "execute_result",
          "data": {
            "text/html": [
              "<div>\n",
              "<style scoped>\n",
              "    .dataframe tbody tr th:only-of-type {\n",
              "        vertical-align: middle;\n",
              "    }\n",
              "\n",
              "    .dataframe tbody tr th {\n",
              "        vertical-align: top;\n",
              "    }\n",
              "\n",
              "    .dataframe thead th {\n",
              "        text-align: right;\n",
              "    }\n",
              "</style>\n",
              "<table border=\"1\" class=\"dataframe\">\n",
              "  <thead>\n",
              "    <tr style=\"text-align: right;\">\n",
              "      <th></th>\n",
              "      <th>HostStarMassSlrMass</th>\n",
              "      <th>HostStarRadiusSlrRad</th>\n",
              "      <th>HostStarMetallicity</th>\n",
              "      <th>HostStarTempK</th>\n",
              "      <th>HostStarAgeGyr</th>\n",
              "    </tr>\n",
              "  </thead>\n",
              "  <tbody>\n",
              "    <tr>\n",
              "      <th>count</th>\n",
              "      <td>347.000000</td>\n",
              "      <td>347.000000</td>\n",
              "      <td>304.000000</td>\n",
              "      <td>346.000000</td>\n",
              "      <td>164.000000</td>\n",
              "    </tr>\n",
              "    <tr>\n",
              "      <th>mean</th>\n",
              "      <td>1.005476</td>\n",
              "      <td>1.045179</td>\n",
              "      <td>0.076954</td>\n",
              "      <td>5630.176301</td>\n",
              "      <td>4.955027</td>\n",
              "    </tr>\n",
              "    <tr>\n",
              "      <th>std</th>\n",
              "      <td>0.158470</td>\n",
              "      <td>0.214590</td>\n",
              "      <td>0.189905</td>\n",
              "      <td>511.990292</td>\n",
              "      <td>3.362337</td>\n",
              "    </tr>\n",
              "    <tr>\n",
              "      <th>min</th>\n",
              "      <td>0.514000</td>\n",
              "      <td>0.550000</td>\n",
              "      <td>-0.640000</td>\n",
              "      <td>3540.000000</td>\n",
              "      <td>0.009500</td>\n",
              "    </tr>\n",
              "    <tr>\n",
              "      <th>25%</th>\n",
              "      <td>0.910000</td>\n",
              "      <td>0.890000</td>\n",
              "      <td>-0.012500</td>\n",
              "      <td>5383.000000</td>\n",
              "      <td>2.257500</td>\n",
              "    </tr>\n",
              "    <tr>\n",
              "      <th>50%</th>\n",
              "      <td>1.000000</td>\n",
              "      <td>1.022000</td>\n",
              "      <td>0.085000</td>\n",
              "      <td>5672.500000</td>\n",
              "      <td>4.570000</td>\n",
              "    </tr>\n",
              "    <tr>\n",
              "      <th>75%</th>\n",
              "      <td>1.108000</td>\n",
              "      <td>1.183000</td>\n",
              "      <td>0.210000</td>\n",
              "      <td>5971.500000</td>\n",
              "      <td>7.000000</td>\n",
              "    </tr>\n",
              "    <tr>\n",
              "      <th>max</th>\n",
              "      <td>1.495000</td>\n",
              "      <td>1.497000</td>\n",
              "      <td>0.440000</td>\n",
              "      <td>7400.000000</td>\n",
              "      <td>13.900000</td>\n",
              "    </tr>\n",
              "  </tbody>\n",
              "</table>\n",
              "</div>"
            ],
            "text/plain": [
              "       HostStarMassSlrMass  HostStarRadiusSlrRad  ...  HostStarTempK  HostStarAgeGyr\n",
              "count           347.000000            347.000000  ...     346.000000      164.000000\n",
              "mean              1.005476              1.045179  ...    5630.176301        4.955027\n",
              "std               0.158470              0.214590  ...     511.990292        3.362337\n",
              "min               0.514000              0.550000  ...    3540.000000        0.009500\n",
              "25%               0.910000              0.890000  ...    5383.000000        2.257500\n",
              "50%               1.000000              1.022000  ...    5672.500000        4.570000\n",
              "75%               1.108000              1.183000  ...    5971.500000        7.000000\n",
              "max               1.495000              1.497000  ...    7400.000000       13.900000\n",
              "\n",
              "[8 rows x 5 columns]"
            ]
          },
          "metadata": {},
          "execution_count": 128
        }
      ]
    },
    {
      "cell_type": "code",
      "metadata": {
        "colab": {
          "base_uri": "https://localhost:8080/"
        },
        "id": "VPz6XiGU_i5a",
        "outputId": "a0a2c763-3e05-416a-daf3-97ca3cc2daa3"
      },
      "source": [
        "print(\"Количество солнцеподобных звезд: \" + str(sun_like_stars.shape[0]))\n"
      ],
      "execution_count": 129,
      "outputs": [
        {
          "output_type": "stream",
          "name": "stdout",
          "text": [
            "Количество солнцеподобных звезд: 347\n"
          ]
        }
      ]
    },
    {
      "cell_type": "code",
      "metadata": {
        "colab": {
          "base_uri": "https://localhost:8080/",
          "height": 311
        },
        "id": "myUmfFCQ_mIc",
        "outputId": "3436f847-303f-4cd5-f73c-31ecaa558aae"
      },
      "source": [
        "stars_scatter_slr = sun_like_stars[features].dropna()\n",
        "x = stars_scatter_slr['HostStarMassSlrMass']\n",
        "y = stars_scatter_slr['HostStarMetallicity']\n",
        "area = np.pi * stars_scatter_slr['HostStarRadiusSlrRad']**3\n",
        "colors = stars_scatter_slr['HostStarTempK']\n",
        "\n",
        "fig = plt.figure()\n",
        "fig.suptitle('Солнцеподобные звезды с планетами', fontsize=14, fontweight='bold')\n",
        "ax.set_xlabel('Солнечная масса')\n",
        "ax.set_ylabel('Металличность')\n",
        "\n",
        "normalize = clr.Normalize(vmin=colors.min(), vmax=colors.max())\n",
        "colormap = cm.Dark2\n",
        "\n",
        "scalar_mappaple = cm.ScalarMappable(norm=normalize, cmap=colormap)\n",
        "scalar_mappaple.set_array(colors)\n",
        "\n",
        "clb = plt.colorbar(scalar_mappaple)\n",
        "clb.set_label('Фотосфера, K')\n",
        "\n",
        "plt.scatter(x, y, s=area, c = normalize(colors), cmap = colormap, alpha=0.3)\n",
        "plt.annotate('Солнце', xy = (1,0), \n",
        "             xytext = (-50, 50),\n",
        "             textcoords = 'offset points',  \n",
        "             bbox = dict(boxstyle = 'round,pad=0.5', fc = 'red', alpha = 0.3),\n",
        "             arrowprops = dict(arrowstyle = '->')\n",
        "             )"
      ],
      "execution_count": 131,
      "outputs": [
        {
          "output_type": "execute_result",
          "data": {
            "text/plain": [
              "Text(-50, 50, 'Солнце')"
            ]
          },
          "metadata": {},
          "execution_count": 131
        },
        {
          "output_type": "display_data",
          "data": {
            "image/png": "[encoded data removed]",
            "text/plain": [
              "<Figure size 432x288 with 2 Axes>"
            ]
          },
          "metadata": {
            "needs_background": "light"
          }
        }
      ]
    },
    {
      "cell_type": "code",
      "metadata": {
        "id": "KApUGxj9_uJT"
      },
      "source": [
        ""
      ],
      "execution_count": null,
      "outputs": []
    }
  ]
}